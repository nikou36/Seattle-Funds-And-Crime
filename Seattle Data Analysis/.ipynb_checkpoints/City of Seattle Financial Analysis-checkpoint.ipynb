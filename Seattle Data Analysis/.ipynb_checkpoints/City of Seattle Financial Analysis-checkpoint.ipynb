{
 "cells": [
  {
   "cell_type": "markdown",
   "metadata": {},
   "source": [
    "# How Seattle's Budget Affects Crime Rate "
   ]
  },
  {
   "cell_type": "markdown",
   "metadata": {},
   "source": [
    "Note: Tableau visualizations may not be visible on github. Here is a link to all the visualizations: https://public.tableau.com/profile/nick.kouthong#!/\n",
    "\n",
    "Seattle is a bustling and diverse city that continues to innovate in response to its dynamic demographic. In this report I aim to analyze how Seattle's decisions on budgeting affect the rate of crime in the city."
   ]
  },
  {
   "cell_type": "markdown",
   "metadata": {},
   "source": [
    "First, let us gather the necessary libraries for our analysis. "
   ]
  },
  {
   "cell_type": "code",
   "execution_count": 122,
   "metadata": {},
   "outputs": [],
   "source": [
    "import numpy as np\n",
    "import pandas as pd\n",
    "import seaborn as sns\n",
    "import matplotlib.pyplot as plt\n",
    "from sklearn.impute import SimpleImputer"
   ]
  },
  {
   "cell_type": "code",
   "execution_count": 123,
   "metadata": {},
   "outputs": [],
   "source": [
    "finance2017 = pd.read_csv(\"2018_Proposed_Budget_Dollars.csv\")\n",
    "finance2016 = pd.read_csv(\"2016_Adopted_Budget_Dollars.csv\")\n",
    "crime = pd.read_csv(\"Crime_Data.csv\")"
   ]
  },
  {
   "cell_type": "markdown",
   "metadata": {},
   "source": [
    "The features included in these csv files include the actual, adopted, and endorsed budget value for a specific year. The adopted and endorsed values are maluable meaning they can change before the final implementation. The actual budge value is the final budget implemented that year. To get the most accurate picture of how the budget split effects the city, we will use the actuals values from the previous years for any predictive tasks. Specifically, we have the actuals for 2015 and 2016."
   ]
  },
  {
   "cell_type": "code",
   "execution_count": 124,
   "metadata": {
    "scrolled": true
   },
   "outputs": [
    {
     "data": {
      "text/html": [
       "<div>\n",
       "<style scoped>\n",
       "    .dataframe tbody tr th:only-of-type {\n",
       "        vertical-align: middle;\n",
       "    }\n",
       "\n",
       "    .dataframe tbody tr th {\n",
       "        vertical-align: top;\n",
       "    }\n",
       "\n",
       "    .dataframe thead th {\n",
       "        text-align: right;\n",
       "    }\n",
       "</style>\n",
       "<table border=\"1\" class=\"dataframe\">\n",
       "  <thead>\n",
       "    <tr style=\"text-align: right;\">\n",
       "      <th></th>\n",
       "      <th>DeptCode</th>\n",
       "      <th>BCLName</th>\n",
       "      <th>ProgramName</th>\n",
       "      <th>2015 Actual</th>\n",
       "      <th>2015 Adopted</th>\n",
       "      <th>2016 Endorsed</th>\n",
       "      <th>2016 Adopted</th>\n",
       "    </tr>\n",
       "  </thead>\n",
       "  <tbody>\n",
       "    <tr>\n",
       "      <th>0</th>\n",
       "      <td>12LIBLEVY</td>\n",
       "      <td>Library Levy Operating Transfer</td>\n",
       "      <td>Library Levy Operating Transfer</td>\n",
       "      <td>12560843.0</td>\n",
       "      <td>13139976.0</td>\n",
       "      <td>13665837.0</td>\n",
       "      <td>13665837.0</td>\n",
       "    </tr>\n",
       "    <tr>\n",
       "      <th>1</th>\n",
       "      <td>ARTS</td>\n",
       "      <td>Arts Account</td>\n",
       "      <td>Administrative Services</td>\n",
       "      <td>535825.0</td>\n",
       "      <td>652869.0</td>\n",
       "      <td>577473.0</td>\n",
       "      <td>598187.0</td>\n",
       "    </tr>\n",
       "    <tr>\n",
       "      <th>2</th>\n",
       "      <td>ARTS</td>\n",
       "      <td>Arts Account</td>\n",
       "      <td>Community Development and Outreach</td>\n",
       "      <td>537298.0</td>\n",
       "      <td>616223.0</td>\n",
       "      <td>624749.0</td>\n",
       "      <td>611425.0</td>\n",
       "    </tr>\n",
       "    <tr>\n",
       "      <th>3</th>\n",
       "      <td>ARTS</td>\n",
       "      <td>Arts Account</td>\n",
       "      <td>Cultural Partnerships</td>\n",
       "      <td>3480285.0</td>\n",
       "      <td>3810876.0</td>\n",
       "      <td>3766536.0</td>\n",
       "      <td>4517092.0</td>\n",
       "    </tr>\n",
       "    <tr>\n",
       "      <th>4</th>\n",
       "      <td>ARTS</td>\n",
       "      <td>Arts Account</td>\n",
       "      <td>Langston Hughes Performing Arts Institute</td>\n",
       "      <td>824622.0</td>\n",
       "      <td>875117.0</td>\n",
       "      <td>843873.0</td>\n",
       "      <td>428046.0</td>\n",
       "    </tr>\n",
       "  </tbody>\n",
       "</table>\n",
       "</div>"
      ],
      "text/plain": [
       "    DeptCode                          BCLName  \\\n",
       "0  12LIBLEVY  Library Levy Operating Transfer   \n",
       "1       ARTS                     Arts Account   \n",
       "2       ARTS                     Arts Account   \n",
       "3       ARTS                     Arts Account   \n",
       "4       ARTS                     Arts Account   \n",
       "\n",
       "                                 ProgramName  2015 Actual  2015 Adopted  \\\n",
       "0            Library Levy Operating Transfer   12560843.0    13139976.0   \n",
       "1                    Administrative Services     535825.0      652869.0   \n",
       "2         Community Development and Outreach     537298.0      616223.0   \n",
       "3                      Cultural Partnerships    3480285.0     3810876.0   \n",
       "4  Langston Hughes Performing Arts Institute     824622.0      875117.0   \n",
       "\n",
       "   2016 Endorsed  2016 Adopted  \n",
       "0     13665837.0    13665837.0  \n",
       "1       577473.0      598187.0  \n",
       "2       624749.0      611425.0  \n",
       "3      3766536.0     4517092.0  \n",
       "4       843873.0      428046.0  "
      ]
     },
     "execution_count": 124,
     "metadata": {},
     "output_type": "execute_result"
    }
   ],
   "source": [
    "finance2016.head()"
   ]
  },
  {
   "cell_type": "code",
   "execution_count": 125,
   "metadata": {},
   "outputs": [
    {
     "data": {
      "text/html": [
       "<div>\n",
       "<style scoped>\n",
       "    .dataframe tbody tr th:only-of-type {\n",
       "        vertical-align: middle;\n",
       "    }\n",
       "\n",
       "    .dataframe tbody tr th {\n",
       "        vertical-align: top;\n",
       "    }\n",
       "\n",
       "    .dataframe thead th {\n",
       "        text-align: right;\n",
       "    }\n",
       "</style>\n",
       "<table border=\"1\" class=\"dataframe\">\n",
       "  <thead>\n",
       "    <tr style=\"text-align: right;\">\n",
       "      <th></th>\n",
       "      <th>DeptCode</th>\n",
       "      <th>BCLName</th>\n",
       "      <th>ProgramName</th>\n",
       "      <th>2016 Actuals</th>\n",
       "      <th>2017 Adopted</th>\n",
       "      <th>2018 Endorsed</th>\n",
       "      <th>2018 Proposed</th>\n",
       "    </tr>\n",
       "  </thead>\n",
       "  <tbody>\n",
       "    <tr>\n",
       "      <th>0</th>\n",
       "      <td>12LIBLEVY</td>\n",
       "      <td>Library Levy Operating Transfer</td>\n",
       "      <td>Library Levy Operating Transfer</td>\n",
       "      <td>16416248.0</td>\n",
       "      <td>14503161</td>\n",
       "      <td>14905762</td>\n",
       "      <td>15406132</td>\n",
       "    </tr>\n",
       "    <tr>\n",
       "      <th>1</th>\n",
       "      <td>ARTS</td>\n",
       "      <td>Municipal Arts Fund</td>\n",
       "      <td>Artwork Conservation</td>\n",
       "      <td>167028.0</td>\n",
       "      <td>192527</td>\n",
       "      <td>195486</td>\n",
       "      <td>196788</td>\n",
       "    </tr>\n",
       "    <tr>\n",
       "      <th>2</th>\n",
       "      <td>CBLFEE</td>\n",
       "      <td>Cable Fee Support to Information Technology Fund</td>\n",
       "      <td>Applications</td>\n",
       "      <td>0.0</td>\n",
       "      <td>742062</td>\n",
       "      <td>430062</td>\n",
       "      <td>430062</td>\n",
       "    </tr>\n",
       "    <tr>\n",
       "      <th>3</th>\n",
       "      <td>CBLFEE</td>\n",
       "      <td>Cable Fee Support to Information Technology Fund</td>\n",
       "      <td>Business Office</td>\n",
       "      <td>238440.0</td>\n",
       "      <td>456822</td>\n",
       "      <td>386145</td>\n",
       "      <td>386145</td>\n",
       "    </tr>\n",
       "    <tr>\n",
       "      <th>4</th>\n",
       "      <td>CBLFEE</td>\n",
       "      <td>Cable Fee Support to Information Technology Fund</td>\n",
       "      <td>Citywide Web Team</td>\n",
       "      <td>1105252.0</td>\n",
       "      <td>1122959</td>\n",
       "      <td>1135302</td>\n",
       "      <td>1135302</td>\n",
       "    </tr>\n",
       "  </tbody>\n",
       "</table>\n",
       "</div>"
      ],
      "text/plain": [
       "    DeptCode                                           BCLName  \\\n",
       "0  12LIBLEVY                   Library Levy Operating Transfer   \n",
       "1       ARTS                               Municipal Arts Fund   \n",
       "2     CBLFEE  Cable Fee Support to Information Technology Fund   \n",
       "3     CBLFEE  Cable Fee Support to Information Technology Fund   \n",
       "4     CBLFEE  Cable Fee Support to Information Technology Fund   \n",
       "\n",
       "                       ProgramName  2016 Actuals  2017 Adopted  2018 Endorsed  \\\n",
       "0  Library Levy Operating Transfer    16416248.0      14503161       14905762   \n",
       "1             Artwork Conservation      167028.0        192527         195486   \n",
       "2                     Applications           0.0        742062         430062   \n",
       "3                  Business Office      238440.0        456822         386145   \n",
       "4                Citywide Web Team     1105252.0       1122959        1135302   \n",
       "\n",
       "   2018 Proposed  \n",
       "0       15406132  \n",
       "1         196788  \n",
       "2         430062  \n",
       "3         386145  \n",
       "4        1135302  "
      ]
     },
     "execution_count": 125,
     "metadata": {},
     "output_type": "execute_result"
    }
   ],
   "source": [
    "finance2017.head()"
   ]
  },
  {
   "cell_type": "code",
   "execution_count": 126,
   "metadata": {},
   "outputs": [
    {
     "data": {
      "text/html": [
       "<div>\n",
       "<style scoped>\n",
       "    .dataframe tbody tr th:only-of-type {\n",
       "        vertical-align: middle;\n",
       "    }\n",
       "\n",
       "    .dataframe tbody tr th {\n",
       "        vertical-align: top;\n",
       "    }\n",
       "\n",
       "    .dataframe thead th {\n",
       "        text-align: right;\n",
       "    }\n",
       "</style>\n",
       "<table border=\"1\" class=\"dataframe\">\n",
       "  <thead>\n",
       "    <tr style=\"text-align: right;\">\n",
       "      <th></th>\n",
       "      <th>Report Number</th>\n",
       "      <th>Occurred Date</th>\n",
       "      <th>Occurred Time</th>\n",
       "      <th>Reported Date</th>\n",
       "      <th>Reported Time</th>\n",
       "      <th>Crime Subcategory</th>\n",
       "      <th>Primary Offense Description</th>\n",
       "      <th>Precinct</th>\n",
       "      <th>Sector</th>\n",
       "      <th>Beat</th>\n",
       "      <th>Neighborhood</th>\n",
       "    </tr>\n",
       "  </thead>\n",
       "  <tbody>\n",
       "    <tr>\n",
       "      <th>0</th>\n",
       "      <td>20190000905007</td>\n",
       "      <td>05/06/2019</td>\n",
       "      <td>1800.0</td>\n",
       "      <td>05/07/2019</td>\n",
       "      <td>1008.0</td>\n",
       "      <td>CAR PROWL</td>\n",
       "      <td>THEFT-CARPROWL</td>\n",
       "      <td>NORTH</td>\n",
       "      <td>J</td>\n",
       "      <td>J3</td>\n",
       "      <td>PHINNEY RIDGE</td>\n",
       "    </tr>\n",
       "    <tr>\n",
       "      <th>1</th>\n",
       "      <td>20190000905022</td>\n",
       "      <td>04/25/2019</td>\n",
       "      <td>2100.0</td>\n",
       "      <td>05/07/2019</td>\n",
       "      <td>1407.0</td>\n",
       "      <td>THEFT-BUILDING</td>\n",
       "      <td>THEFT-BUILDING</td>\n",
       "      <td>WEST</td>\n",
       "      <td>D</td>\n",
       "      <td>D3</td>\n",
       "      <td>SLU/CASCADE</td>\n",
       "    </tr>\n",
       "    <tr>\n",
       "      <th>2</th>\n",
       "      <td>20190000162679</td>\n",
       "      <td>04/12/2019</td>\n",
       "      <td>1.0</td>\n",
       "      <td>05/07/2019</td>\n",
       "      <td>122.0</td>\n",
       "      <td>THEFT-ALL OTHER</td>\n",
       "      <td>THEFT-OTH</td>\n",
       "      <td>SOUTHWEST</td>\n",
       "      <td>F</td>\n",
       "      <td>F1</td>\n",
       "      <td>NORTH DELRIDGE</td>\n",
       "    </tr>\n",
       "    <tr>\n",
       "      <th>3</th>\n",
       "      <td>20190000162720</td>\n",
       "      <td>05/07/2019</td>\n",
       "      <td>149.0</td>\n",
       "      <td>05/07/2019</td>\n",
       "      <td>149.0</td>\n",
       "      <td>DUI</td>\n",
       "      <td>DUI-DRUGS</td>\n",
       "      <td>EAST</td>\n",
       "      <td>E</td>\n",
       "      <td>E3</td>\n",
       "      <td>CAPITOL HILL</td>\n",
       "    </tr>\n",
       "    <tr>\n",
       "      <th>4</th>\n",
       "      <td>20190000904999</td>\n",
       "      <td>05/05/2019</td>\n",
       "      <td>1230.0</td>\n",
       "      <td>05/07/2019</td>\n",
       "      <td>839.0</td>\n",
       "      <td>THEFT-BUILDING</td>\n",
       "      <td>THEFT-BUILDING</td>\n",
       "      <td>WEST</td>\n",
       "      <td>D</td>\n",
       "      <td>D2</td>\n",
       "      <td>SLU/CASCADE</td>\n",
       "    </tr>\n",
       "  </tbody>\n",
       "</table>\n",
       "</div>"
      ],
      "text/plain": [
       "    Report Number Occurred Date  Occurred Time Reported Date  Reported Time  \\\n",
       "0  20190000905007    05/06/2019         1800.0    05/07/2019         1008.0   \n",
       "1  20190000905022    04/25/2019         2100.0    05/07/2019         1407.0   \n",
       "2  20190000162679    04/12/2019            1.0    05/07/2019          122.0   \n",
       "3  20190000162720    05/07/2019          149.0    05/07/2019          149.0   \n",
       "4  20190000904999    05/05/2019         1230.0    05/07/2019          839.0   \n",
       "\n",
       "  Crime Subcategory Primary Offense Description   Precinct Sector Beat  \\\n",
       "0         CAR PROWL              THEFT-CARPROWL      NORTH      J   J3   \n",
       "1    THEFT-BUILDING              THEFT-BUILDING       WEST      D   D3   \n",
       "2   THEFT-ALL OTHER                   THEFT-OTH  SOUTHWEST      F   F1   \n",
       "3               DUI                   DUI-DRUGS       EAST      E   E3   \n",
       "4    THEFT-BUILDING              THEFT-BUILDING       WEST      D   D2   \n",
       "\n",
       "     Neighborhood  \n",
       "0   PHINNEY RIDGE  \n",
       "1     SLU/CASCADE  \n",
       "2  NORTH DELRIDGE  \n",
       "3    CAPITOL HILL  \n",
       "4     SLU/CASCADE  "
      ]
     },
     "execution_count": 126,
     "metadata": {},
     "output_type": "execute_result"
    }
   ],
   "source": [
    "crime.head()"
   ]
  },
  {
   "cell_type": "markdown",
   "metadata": {},
   "source": [
    "# Data Cleaning"
   ]
  },
  {
   "cell_type": "markdown",
   "metadata": {},
   "source": [
    "Before we move on ahead let us clean the data real quick. There are a few things we have to deal with, potential missing data, potential duplicate data and those white spaces in the column names."
   ]
  },
  {
   "cell_type": "code",
   "execution_count": 127,
   "metadata": {},
   "outputs": [
    {
     "data": {
      "text/plain": [
       "(723, 7)"
      ]
     },
     "execution_count": 127,
     "metadata": {},
     "output_type": "execute_result"
    }
   ],
   "source": [
    "finance2016.shape"
   ]
  },
  {
   "cell_type": "code",
   "execution_count": 128,
   "metadata": {},
   "outputs": [
    {
     "data": {
      "text/plain": [
       "DeptCode         0\n",
       "BCLName          0\n",
       "ProgramName      0\n",
       "2015 Actual      3\n",
       "2015 Adopted     6\n",
       "2016 Endorsed    6\n",
       "2016 Adopted     5\n",
       "dtype: int64"
      ]
     },
     "execution_count": 128,
     "metadata": {},
     "output_type": "execute_result"
    }
   ],
   "source": [
    "finance2016.isnull().sum()"
   ]
  },
  {
   "cell_type": "markdown",
   "metadata": {},
   "source": [
    "Next we check if there are any duplicate rows."
   ]
  },
  {
   "cell_type": "code",
   "execution_count": 129,
   "metadata": {},
   "outputs": [
    {
     "data": {
      "text/plain": [
       "0"
      ]
     },
     "execution_count": 129,
     "metadata": {},
     "output_type": "execute_result"
    }
   ],
   "source": [
    "duplicates2016 = finance2016[finance2016.duplicated()]\n",
    "len(duplicates2016)"
   ]
  },
  {
   "cell_type": "code",
   "execution_count": 130,
   "metadata": {},
   "outputs": [
    {
     "data": {
      "text/plain": [
       "Index(['DeptCode', 'BCLName', 'ProgramName', '2015_Actual', '2015_Adopted',\n",
       "       '2016_Endorsed', '2016_Adopted'],\n",
       "      dtype='object')"
      ]
     },
     "execution_count": 130,
     "metadata": {},
     "output_type": "execute_result"
    }
   ],
   "source": [
    "finance2016 = finance2016.rename(index = str, columns = {'2015 Actual': '2015_Actual', '2015 Adopted': '2015_Adopted',\n",
    "                                                        '2016 Endorsed':'2016_Endorsed','2016 Adopted':'2016_Adopted'})\n",
    "finance2016.columns"
   ]
  },
  {
   "cell_type": "markdown",
   "metadata": {},
   "source": [
    "We are in good shape for the 2016 table. Let's repeat the process for the two other datasets. "
   ]
  },
  {
   "cell_type": "code",
   "execution_count": 131,
   "metadata": {},
   "outputs": [
    {
     "data": {
      "text/plain": [
       "(579, 7)"
      ]
     },
     "execution_count": 131,
     "metadata": {},
     "output_type": "execute_result"
    }
   ],
   "source": [
    "finance2017.shape"
   ]
  },
  {
   "cell_type": "code",
   "execution_count": 132,
   "metadata": {},
   "outputs": [
    {
     "data": {
      "text/plain": [
       "DeptCode         0\n",
       "BCLName          0\n",
       "ProgramName      0\n",
       "2016 Actuals     0\n",
       "2017 Adopted     0\n",
       "2018 Endorsed    0\n",
       "2018 Proposed    0\n",
       "dtype: int64"
      ]
     },
     "execution_count": 132,
     "metadata": {},
     "output_type": "execute_result"
    }
   ],
   "source": [
    "finance2017.isnull().sum()"
   ]
  },
  {
   "cell_type": "code",
   "execution_count": 133,
   "metadata": {},
   "outputs": [
    {
     "data": {
      "text/plain": [
       "0"
      ]
     },
     "execution_count": 133,
     "metadata": {},
     "output_type": "execute_result"
    }
   ],
   "source": [
    "duplicates2017 = finance2017[finance2017.duplicated()]\n",
    "len(duplicates2017)"
   ]
  },
  {
   "cell_type": "code",
   "execution_count": 134,
   "metadata": {},
   "outputs": [
    {
     "data": {
      "text/plain": [
       "Index(['DeptCode', 'BCLName', 'ProgramName', '2016_Actuals', '2017_Adopted',\n",
       "       '2018_Endorsed', '2018_Proposed'],\n",
       "      dtype='object')"
      ]
     },
     "execution_count": 134,
     "metadata": {},
     "output_type": "execute_result"
    }
   ],
   "source": [
    "finance2017 = finance2017.rename(index = str, columns = {'2016 Actuals': '2016_Actuals', '2017 Adopted':'2017_Adopted',\n",
    "                                                        '2018 Endorsed': '2018_Endorsed', '2018 Proposed':'2018_Proposed'})\n",
    "finance2017.columns"
   ]
  },
  {
   "cell_type": "code",
   "execution_count": 135,
   "metadata": {},
   "outputs": [
    {
     "data": {
      "text/plain": [
       "(523590, 11)"
      ]
     },
     "execution_count": 135,
     "metadata": {},
     "output_type": "execute_result"
    }
   ],
   "source": [
    "crime.shape"
   ]
  },
  {
   "cell_type": "code",
   "execution_count": 136,
   "metadata": {},
   "outputs": [
    {
     "data": {
      "text/plain": [
       "Report Number                     0\n",
       "Occurred Date                     2\n",
       "Occurred Time                     2\n",
       "Reported Date                     0\n",
       "Reported Time                     2\n",
       "Crime Subcategory               262\n",
       "Primary Offense Description       0\n",
       "Precinct                          6\n",
       "Sector                         3346\n",
       "Beat                           3298\n",
       "Neighborhood                      0\n",
       "dtype: int64"
      ]
     },
     "execution_count": 136,
     "metadata": {},
     "output_type": "execute_result"
    }
   ],
   "source": [
    "crime.isnull().sum()"
   ]
  },
  {
   "cell_type": "code",
   "execution_count": 137,
   "metadata": {},
   "outputs": [
    {
     "data": {
      "text/plain": [
       "0"
      ]
     },
     "execution_count": 137,
     "metadata": {},
     "output_type": "execute_result"
    }
   ],
   "source": [
    "duplicates_crime = crime[crime.duplicated()]\n",
    "len(duplicates_crime)"
   ]
  },
  {
   "cell_type": "code",
   "execution_count": 138,
   "metadata": {},
   "outputs": [
    {
     "data": {
      "text/plain": [
       "Index(['Report_Number', 'Occurred_Date', 'Occurred_Time', 'Reported_Date',\n",
       "       'Reported_Time', 'Crime_Subcategory', 'Primary_Offense_Description',\n",
       "       'Precinct', 'Sector', 'Beat', 'Neighborhood'],\n",
       "      dtype='object')"
      ]
     },
     "execution_count": 138,
     "metadata": {},
     "output_type": "execute_result"
    }
   ],
   "source": [
    "crime = crime.rename(index = str, \n",
    "                     columns = {'Report Number': 'Report_Number','Occurred Date': 'Occurred_Date','Occurred Time': 'Occurred_Time',\n",
    "                               'Reported Date': 'Reported_Date', 'Reported Time':'Reported_Time', \n",
    "                                'Crime Subcategory': 'Crime_Subcategory',\n",
    "                                'Primary Offense Description':'Primary_Offense_Description'})\n",
    "crime.columns"
   ]
  },
  {
   "cell_type": "code",
   "execution_count": 139,
   "metadata": {},
   "outputs": [
    {
     "data": {
      "text/html": [
       "<div>\n",
       "<style scoped>\n",
       "    .dataframe tbody tr th:only-of-type {\n",
       "        vertical-align: middle;\n",
       "    }\n",
       "\n",
       "    .dataframe tbody tr th {\n",
       "        vertical-align: top;\n",
       "    }\n",
       "\n",
       "    .dataframe thead th {\n",
       "        text-align: right;\n",
       "    }\n",
       "</style>\n",
       "<table border=\"1\" class=\"dataframe\">\n",
       "  <thead>\n",
       "    <tr style=\"text-align: right;\">\n",
       "      <th></th>\n",
       "      <th>Report_Number</th>\n",
       "      <th>Occurred_Date</th>\n",
       "      <th>Occurred_Time</th>\n",
       "      <th>Reported_Date</th>\n",
       "      <th>Reported_Time</th>\n",
       "      <th>Crime_Subcategory</th>\n",
       "      <th>Primary_Offense_Description</th>\n",
       "      <th>Precinct</th>\n",
       "      <th>Sector</th>\n",
       "      <th>Beat</th>\n",
       "      <th>Neighborhood</th>\n",
       "    </tr>\n",
       "  </thead>\n",
       "  <tbody>\n",
       "    <tr>\n",
       "      <th>0</th>\n",
       "      <td>20190000905007</td>\n",
       "      <td>05/06/2019</td>\n",
       "      <td>1800.0</td>\n",
       "      <td>05/07/2019</td>\n",
       "      <td>1008.0</td>\n",
       "      <td>CAR PROWL</td>\n",
       "      <td>THEFT-CARPROWL</td>\n",
       "      <td>NORTH</td>\n",
       "      <td>J</td>\n",
       "      <td>J3</td>\n",
       "      <td>PHINNEY RIDGE</td>\n",
       "    </tr>\n",
       "    <tr>\n",
       "      <th>1</th>\n",
       "      <td>20190000905022</td>\n",
       "      <td>04/25/2019</td>\n",
       "      <td>2100.0</td>\n",
       "      <td>05/07/2019</td>\n",
       "      <td>1407.0</td>\n",
       "      <td>THEFT-BUILDING</td>\n",
       "      <td>THEFT-BUILDING</td>\n",
       "      <td>WEST</td>\n",
       "      <td>D</td>\n",
       "      <td>D3</td>\n",
       "      <td>SLU/CASCADE</td>\n",
       "    </tr>\n",
       "    <tr>\n",
       "      <th>2</th>\n",
       "      <td>20190000162679</td>\n",
       "      <td>04/12/2019</td>\n",
       "      <td>1.0</td>\n",
       "      <td>05/07/2019</td>\n",
       "      <td>122.0</td>\n",
       "      <td>THEFT-ALL OTHER</td>\n",
       "      <td>THEFT-OTH</td>\n",
       "      <td>SOUTHWEST</td>\n",
       "      <td>F</td>\n",
       "      <td>F1</td>\n",
       "      <td>NORTH DELRIDGE</td>\n",
       "    </tr>\n",
       "    <tr>\n",
       "      <th>3</th>\n",
       "      <td>20190000162720</td>\n",
       "      <td>05/07/2019</td>\n",
       "      <td>149.0</td>\n",
       "      <td>05/07/2019</td>\n",
       "      <td>149.0</td>\n",
       "      <td>DUI</td>\n",
       "      <td>DUI-DRUGS</td>\n",
       "      <td>EAST</td>\n",
       "      <td>E</td>\n",
       "      <td>E3</td>\n",
       "      <td>CAPITOL HILL</td>\n",
       "    </tr>\n",
       "    <tr>\n",
       "      <th>4</th>\n",
       "      <td>20190000904999</td>\n",
       "      <td>05/05/2019</td>\n",
       "      <td>1230.0</td>\n",
       "      <td>05/07/2019</td>\n",
       "      <td>839.0</td>\n",
       "      <td>THEFT-BUILDING</td>\n",
       "      <td>THEFT-BUILDING</td>\n",
       "      <td>WEST</td>\n",
       "      <td>D</td>\n",
       "      <td>D2</td>\n",
       "      <td>SLU/CASCADE</td>\n",
       "    </tr>\n",
       "    <tr>\n",
       "      <th>5</th>\n",
       "      <td>20190000905012</td>\n",
       "      <td>05/06/2019</td>\n",
       "      <td>1105.0</td>\n",
       "      <td>05/07/2019</td>\n",
       "      <td>1125.0</td>\n",
       "      <td>CAR PROWL</td>\n",
       "      <td>THEFT-CARPROWL</td>\n",
       "      <td>NORTH</td>\n",
       "      <td>N</td>\n",
       "      <td>N3</td>\n",
       "      <td>GREENWOOD</td>\n",
       "    </tr>\n",
       "    <tr>\n",
       "      <th>6</th>\n",
       "      <td>20190000905020</td>\n",
       "      <td>04/30/2019</td>\n",
       "      <td>1520.0</td>\n",
       "      <td>05/07/2019</td>\n",
       "      <td>1325.0</td>\n",
       "      <td>CAR PROWL</td>\n",
       "      <td>THEFT-CARPROWL</td>\n",
       "      <td>WEST</td>\n",
       "      <td>K</td>\n",
       "      <td>K1</td>\n",
       "      <td>DOWNTOWN COMMERCIAL</td>\n",
       "    </tr>\n",
       "    <tr>\n",
       "      <th>7</th>\n",
       "      <td>20190000905003</td>\n",
       "      <td>05/07/2019</td>\n",
       "      <td>510.0</td>\n",
       "      <td>05/07/2019</td>\n",
       "      <td>936.0</td>\n",
       "      <td>CAR PROWL</td>\n",
       "      <td>THEFT-CARPROWL</td>\n",
       "      <td>WEST</td>\n",
       "      <td>K</td>\n",
       "      <td>K1</td>\n",
       "      <td>DOWNTOWN COMMERCIAL</td>\n",
       "    </tr>\n",
       "    <tr>\n",
       "      <th>8</th>\n",
       "      <td>20190000905015</td>\n",
       "      <td>05/04/2019</td>\n",
       "      <td>900.0</td>\n",
       "      <td>05/07/2019</td>\n",
       "      <td>1140.0</td>\n",
       "      <td>THEFT-ALL OTHER</td>\n",
       "      <td>THEFT-MAIL</td>\n",
       "      <td>NORTH</td>\n",
       "      <td>L</td>\n",
       "      <td>L2</td>\n",
       "      <td>NORTHGATE</td>\n",
       "    </tr>\n",
       "    <tr>\n",
       "      <th>9</th>\n",
       "      <td>20190000905023</td>\n",
       "      <td>05/05/2019</td>\n",
       "      <td>1400.0</td>\n",
       "      <td>05/07/2019</td>\n",
       "      <td>1426.0</td>\n",
       "      <td>THEFT-ALL OTHER</td>\n",
       "      <td>THEFT-OTH</td>\n",
       "      <td>SOUTHWEST</td>\n",
       "      <td>F</td>\n",
       "      <td>F1</td>\n",
       "      <td>PIGEON POINT</td>\n",
       "    </tr>\n",
       "    <tr>\n",
       "      <th>10</th>\n",
       "      <td>20190000905009</td>\n",
       "      <td>05/06/2019</td>\n",
       "      <td>1800.0</td>\n",
       "      <td>05/07/2019</td>\n",
       "      <td>946.0</td>\n",
       "      <td>THEFT-ALL OTHER</td>\n",
       "      <td>THEFT-OTH</td>\n",
       "      <td>WEST</td>\n",
       "      <td>D</td>\n",
       "      <td>D1</td>\n",
       "      <td>BELLTOWN</td>\n",
       "    </tr>\n",
       "    <tr>\n",
       "      <th>11</th>\n",
       "      <td>20190000905018</td>\n",
       "      <td>05/04/2019</td>\n",
       "      <td>645.0</td>\n",
       "      <td>05/07/2019</td>\n",
       "      <td>1253.0</td>\n",
       "      <td>CAR PROWL</td>\n",
       "      <td>THEFT-CARPROWL</td>\n",
       "      <td>WEST</td>\n",
       "      <td>M</td>\n",
       "      <td>M3</td>\n",
       "      <td>DOWNTOWN COMMERCIAL</td>\n",
       "    </tr>\n",
       "    <tr>\n",
       "      <th>12</th>\n",
       "      <td>20190000905010</td>\n",
       "      <td>05/04/2019</td>\n",
       "      <td>500.0</td>\n",
       "      <td>05/07/2019</td>\n",
       "      <td>943.0</td>\n",
       "      <td>CAR PROWL</td>\n",
       "      <td>THEFT-CARPROWL</td>\n",
       "      <td>WEST</td>\n",
       "      <td>Q</td>\n",
       "      <td>Q2</td>\n",
       "      <td>QUEEN ANNE</td>\n",
       "    </tr>\n",
       "    <tr>\n",
       "      <th>13</th>\n",
       "      <td>20190000905025</td>\n",
       "      <td>05/06/2019</td>\n",
       "      <td>1840.0</td>\n",
       "      <td>05/07/2019</td>\n",
       "      <td>1515.0</td>\n",
       "      <td>CAR PROWL</td>\n",
       "      <td>THEFT-CARPROWL</td>\n",
       "      <td>NORTH</td>\n",
       "      <td>L</td>\n",
       "      <td>L2</td>\n",
       "      <td>NORTHGATE</td>\n",
       "    </tr>\n",
       "    <tr>\n",
       "      <th>14</th>\n",
       "      <td>20190000905001</td>\n",
       "      <td>05/06/2019</td>\n",
       "      <td>1200.0</td>\n",
       "      <td>05/07/2019</td>\n",
       "      <td>931.0</td>\n",
       "      <td>THEFT-BICYCLE</td>\n",
       "      <td>THEFT-BICYCLE</td>\n",
       "      <td>WEST</td>\n",
       "      <td>M</td>\n",
       "      <td>M2</td>\n",
       "      <td>SLU/CASCADE</td>\n",
       "    </tr>\n",
       "    <tr>\n",
       "      <th>15</th>\n",
       "      <td>20190000905019</td>\n",
       "      <td>05/06/2019</td>\n",
       "      <td>2300.0</td>\n",
       "      <td>05/07/2019</td>\n",
       "      <td>1321.0</td>\n",
       "      <td>CAR PROWL</td>\n",
       "      <td>THEFT-CARPROWL</td>\n",
       "      <td>NORTH</td>\n",
       "      <td>U</td>\n",
       "      <td>U1</td>\n",
       "      <td>ROOSEVELT/RAVENNA</td>\n",
       "    </tr>\n",
       "    <tr>\n",
       "      <th>16</th>\n",
       "      <td>20190000162691</td>\n",
       "      <td>05/07/2019</td>\n",
       "      <td>28.0</td>\n",
       "      <td>05/07/2019</td>\n",
       "      <td>28.0</td>\n",
       "      <td>TRESPASS</td>\n",
       "      <td>TRESPASS</td>\n",
       "      <td>WEST</td>\n",
       "      <td>Q</td>\n",
       "      <td>Q2</td>\n",
       "      <td>QUEEN ANNE</td>\n",
       "    </tr>\n",
       "    <tr>\n",
       "      <th>17</th>\n",
       "      <td>20190000905002</td>\n",
       "      <td>05/06/2019</td>\n",
       "      <td>2230.0</td>\n",
       "      <td>05/07/2019</td>\n",
       "      <td>845.0</td>\n",
       "      <td>CAR PROWL</td>\n",
       "      <td>THEFT-CARPROWL</td>\n",
       "      <td>NORTH</td>\n",
       "      <td>J</td>\n",
       "      <td>J3</td>\n",
       "      <td>ROOSEVELT/RAVENNA</td>\n",
       "    </tr>\n",
       "    <tr>\n",
       "      <th>18</th>\n",
       "      <td>20190000905014</td>\n",
       "      <td>05/07/2019</td>\n",
       "      <td>1.0</td>\n",
       "      <td>05/07/2019</td>\n",
       "      <td>1029.0</td>\n",
       "      <td>CAR PROWL</td>\n",
       "      <td>THEFT-CARPROWL</td>\n",
       "      <td>NORTH</td>\n",
       "      <td>N</td>\n",
       "      <td>N1</td>\n",
       "      <td>BITTERLAKE</td>\n",
       "    </tr>\n",
       "    <tr>\n",
       "      <th>19</th>\n",
       "      <td>20190000905017</td>\n",
       "      <td>05/07/2019</td>\n",
       "      <td>100.0</td>\n",
       "      <td>05/07/2019</td>\n",
       "      <td>1218.0</td>\n",
       "      <td>THEFT-BICYCLE</td>\n",
       "      <td>THEFT-BICYCLE</td>\n",
       "      <td>NORTH</td>\n",
       "      <td>B</td>\n",
       "      <td>B2</td>\n",
       "      <td>FREMONT</td>\n",
       "    </tr>\n",
       "    <tr>\n",
       "      <th>20</th>\n",
       "      <td>20190000905006</td>\n",
       "      <td>05/05/2019</td>\n",
       "      <td>1600.0</td>\n",
       "      <td>05/07/2019</td>\n",
       "      <td>1106.0</td>\n",
       "      <td>CAR PROWL</td>\n",
       "      <td>THEFT-CARPROWL</td>\n",
       "      <td>WEST</td>\n",
       "      <td>D</td>\n",
       "      <td>D2</td>\n",
       "      <td>QUEEN ANNE</td>\n",
       "    </tr>\n",
       "    <tr>\n",
       "      <th>21</th>\n",
       "      <td>20190000904998</td>\n",
       "      <td>05/06/2019</td>\n",
       "      <td>2100.0</td>\n",
       "      <td>05/07/2019</td>\n",
       "      <td>740.0</td>\n",
       "      <td>CAR PROWL</td>\n",
       "      <td>THEFT-CARPROWL</td>\n",
       "      <td>NORTH</td>\n",
       "      <td>J</td>\n",
       "      <td>J2</td>\n",
       "      <td>BALLARD NORTH</td>\n",
       "    </tr>\n",
       "    <tr>\n",
       "      <th>22</th>\n",
       "      <td>20190000163087</td>\n",
       "      <td>05/07/2019</td>\n",
       "      <td>950.0</td>\n",
       "      <td>05/07/2019</td>\n",
       "      <td>950.0</td>\n",
       "      <td>SEX OFFENSE-OTHER</td>\n",
       "      <td>SEXOFF-OTHER</td>\n",
       "      <td>UNKNOWN</td>\n",
       "      <td>NaN</td>\n",
       "      <td>NaN</td>\n",
       "      <td>UNKNOWN</td>\n",
       "    </tr>\n",
       "    <tr>\n",
       "      <th>23</th>\n",
       "      <td>20190000905013</td>\n",
       "      <td>05/06/2019</td>\n",
       "      <td>2030.0</td>\n",
       "      <td>05/07/2019</td>\n",
       "      <td>1132.0</td>\n",
       "      <td>CAR PROWL</td>\n",
       "      <td>THEFT-CARPROWL</td>\n",
       "      <td>NORTH</td>\n",
       "      <td>B</td>\n",
       "      <td>B1</td>\n",
       "      <td>BALLARD SOUTH</td>\n",
       "    </tr>\n",
       "    <tr>\n",
       "      <th>24</th>\n",
       "      <td>20190000162483</td>\n",
       "      <td>05/06/2019</td>\n",
       "      <td>2000.0</td>\n",
       "      <td>05/07/2019</td>\n",
       "      <td>146.0</td>\n",
       "      <td>BURGLARY-COMMERCIAL</td>\n",
       "      <td>BURGLARY-NOFORCE-NONRES</td>\n",
       "      <td>SOUTH</td>\n",
       "      <td>O</td>\n",
       "      <td>O1</td>\n",
       "      <td>SODO</td>\n",
       "    </tr>\n",
       "    <tr>\n",
       "      <th>25</th>\n",
       "      <td>20190000905016</td>\n",
       "      <td>05/07/2019</td>\n",
       "      <td>800.0</td>\n",
       "      <td>05/07/2019</td>\n",
       "      <td>1158.0</td>\n",
       "      <td>CAR PROWL</td>\n",
       "      <td>THEFT-CARPROWL</td>\n",
       "      <td>NORTH</td>\n",
       "      <td>J</td>\n",
       "      <td>J2</td>\n",
       "      <td>BALLARD NORTH</td>\n",
       "    </tr>\n",
       "    <tr>\n",
       "      <th>26</th>\n",
       "      <td>20190000161619</td>\n",
       "      <td>05/06/2019</td>\n",
       "      <td>931.0</td>\n",
       "      <td>05/06/2019</td>\n",
       "      <td>931.0</td>\n",
       "      <td>BURGLARY-COMMERCIAL</td>\n",
       "      <td>BURGLARY-FORCE-NONRES</td>\n",
       "      <td>WEST</td>\n",
       "      <td>M</td>\n",
       "      <td>M3</td>\n",
       "      <td>DOWNTOWN COMMERCIAL</td>\n",
       "    </tr>\n",
       "    <tr>\n",
       "      <th>27</th>\n",
       "      <td>20190000161427</td>\n",
       "      <td>05/06/2019</td>\n",
       "      <td>524.0</td>\n",
       "      <td>05/06/2019</td>\n",
       "      <td>655.0</td>\n",
       "      <td>BURGLARY-COMMERCIAL</td>\n",
       "      <td>BURGLARY-FORCE-NONRES</td>\n",
       "      <td>NORTH</td>\n",
       "      <td>J</td>\n",
       "      <td>J1</td>\n",
       "      <td>BALLARD NORTH</td>\n",
       "    </tr>\n",
       "    <tr>\n",
       "      <th>28</th>\n",
       "      <td>20190000161991</td>\n",
       "      <td>05/05/2019</td>\n",
       "      <td>200.0</td>\n",
       "      <td>05/06/2019</td>\n",
       "      <td>1531.0</td>\n",
       "      <td>BURGLARY-RESIDENTIAL-SECURE PARKING</td>\n",
       "      <td>BURGLARY-SECURE PARKING-RES</td>\n",
       "      <td>WEST</td>\n",
       "      <td>Q</td>\n",
       "      <td>Q1</td>\n",
       "      <td>MAGNOLIA</td>\n",
       "    </tr>\n",
       "    <tr>\n",
       "      <th>29</th>\n",
       "      <td>20190000161490</td>\n",
       "      <td>05/06/2019</td>\n",
       "      <td>200.0</td>\n",
       "      <td>05/06/2019</td>\n",
       "      <td>745.0</td>\n",
       "      <td>CAR PROWL</td>\n",
       "      <td>THEFT-CARPROWL</td>\n",
       "      <td>SOUTH</td>\n",
       "      <td>O</td>\n",
       "      <td>O3</td>\n",
       "      <td>MID BEACON HILL</td>\n",
       "    </tr>\n",
       "    <tr>\n",
       "      <th>...</th>\n",
       "      <td>...</td>\n",
       "      <td>...</td>\n",
       "      <td>...</td>\n",
       "      <td>...</td>\n",
       "      <td>...</td>\n",
       "      <td>...</td>\n",
       "      <td>...</td>\n",
       "      <td>...</td>\n",
       "      <td>...</td>\n",
       "      <td>...</td>\n",
       "      <td>...</td>\n",
       "    </tr>\n",
       "    <tr>\n",
       "      <th>523560</th>\n",
       "      <td>20060000197161</td>\n",
       "      <td>05/17/2006</td>\n",
       "      <td>19.0</td>\n",
       "      <td>05/17/2006</td>\n",
       "      <td>19.0</td>\n",
       "      <td>HOMICIDE</td>\n",
       "      <td>HOMICIDE-PREMEDITATED-WEAPON</td>\n",
       "      <td>SOUTH</td>\n",
       "      <td>S</td>\n",
       "      <td>S1</td>\n",
       "      <td>NEW HOLLY</td>\n",
       "    </tr>\n",
       "    <tr>\n",
       "      <th>523561</th>\n",
       "      <td>20060000161445</td>\n",
       "      <td>04/23/2006</td>\n",
       "      <td>947.0</td>\n",
       "      <td>04/23/2006</td>\n",
       "      <td>950.0</td>\n",
       "      <td>AGGRAVATED ASSAULT</td>\n",
       "      <td>ASSLT-AGG-POLICE-GUN</td>\n",
       "      <td>NORTH</td>\n",
       "      <td>N</td>\n",
       "      <td>N3</td>\n",
       "      <td>NORTHGATE</td>\n",
       "    </tr>\n",
       "    <tr>\n",
       "      <th>523562</th>\n",
       "      <td>20060000166659</td>\n",
       "      <td>01/01/2006</td>\n",
       "      <td>130.0</td>\n",
       "      <td>01/01/2006</td>\n",
       "      <td>130.0</td>\n",
       "      <td>DUI</td>\n",
       "      <td>DUI-LIQUOR</td>\n",
       "      <td>NORTH</td>\n",
       "      <td>L</td>\n",
       "      <td>L3</td>\n",
       "      <td>LAKECITY</td>\n",
       "    </tr>\n",
       "    <tr>\n",
       "      <th>523563</th>\n",
       "      <td>20050000518938</td>\n",
       "      <td>12/06/2005</td>\n",
       "      <td>1700.0</td>\n",
       "      <td>12/06/2005</td>\n",
       "      <td>1748.0</td>\n",
       "      <td>ROBBERY-STREET</td>\n",
       "      <td>ROBBERY-STREET-BODYFORCE</td>\n",
       "      <td>SOUTHWEST</td>\n",
       "      <td>F</td>\n",
       "      <td>F2</td>\n",
       "      <td>ROXHILL/WESTWOOD/ARBOR HEIGHTS</td>\n",
       "    </tr>\n",
       "    <tr>\n",
       "      <th>523564</th>\n",
       "      <td>20050000518223</td>\n",
       "      <td>12/06/2005</td>\n",
       "      <td>0.0</td>\n",
       "      <td>12/06/2005</td>\n",
       "      <td>0.0</td>\n",
       "      <td>SEX OFFENSE-OTHER</td>\n",
       "      <td>SEXOFF-INDECENT LIBERTIES</td>\n",
       "      <td>EAST</td>\n",
       "      <td>E</td>\n",
       "      <td>E1</td>\n",
       "      <td>CAPITOL HILL</td>\n",
       "    </tr>\n",
       "    <tr>\n",
       "      <th>523565</th>\n",
       "      <td>20050000437363</td>\n",
       "      <td>10/12/2005</td>\n",
       "      <td>415.0</td>\n",
       "      <td>10/12/2005</td>\n",
       "      <td>415.0</td>\n",
       "      <td>BURGLARY-RESIDENTIAL</td>\n",
       "      <td>BURGLARY-FORCE-RES</td>\n",
       "      <td>EAST</td>\n",
       "      <td>C</td>\n",
       "      <td>C2</td>\n",
       "      <td>MONTLAKE/PORTAGE BAY</td>\n",
       "    </tr>\n",
       "    <tr>\n",
       "      <th>523566</th>\n",
       "      <td>20050000221638</td>\n",
       "      <td>05/29/2005</td>\n",
       "      <td>0.0</td>\n",
       "      <td>05/30/2005</td>\n",
       "      <td>0.0</td>\n",
       "      <td>AGGRAVATED ASSAULT</td>\n",
       "      <td>ASSLT-AGG-GUN</td>\n",
       "      <td>SOUTHWEST</td>\n",
       "      <td>F</td>\n",
       "      <td>F3</td>\n",
       "      <td>SOUTH PARK</td>\n",
       "    </tr>\n",
       "    <tr>\n",
       "      <th>523567</th>\n",
       "      <td>20050000206219</td>\n",
       "      <td>05/20/2005</td>\n",
       "      <td>900.0</td>\n",
       "      <td>05/20/2005</td>\n",
       "      <td>900.0</td>\n",
       "      <td>SEX OFFENSE-OTHER</td>\n",
       "      <td>SEXOFF-INDECENT LIBERTIES</td>\n",
       "      <td>SOUTHWEST</td>\n",
       "      <td>W</td>\n",
       "      <td>W3</td>\n",
       "      <td>MORGAN</td>\n",
       "    </tr>\n",
       "    <tr>\n",
       "      <th>523568</th>\n",
       "      <td>2005000019535</td>\n",
       "      <td>01/14/2005</td>\n",
       "      <td>2144.0</td>\n",
       "      <td>01/14/2005</td>\n",
       "      <td>2144.0</td>\n",
       "      <td>SEX OFFENSE-OTHER</td>\n",
       "      <td>SEXOFF-INDECENT LIBERTIES</td>\n",
       "      <td>SOUTH</td>\n",
       "      <td>R</td>\n",
       "      <td>R3</td>\n",
       "      <td>HILLMAN CITY</td>\n",
       "    </tr>\n",
       "    <tr>\n",
       "      <th>523569</th>\n",
       "      <td>20040000493537</td>\n",
       "      <td>11/26/2004</td>\n",
       "      <td>1800.0</td>\n",
       "      <td>11/26/2004</td>\n",
       "      <td>2002.0</td>\n",
       "      <td>CAR PROWL</td>\n",
       "      <td>THEFT-CARPROWL</td>\n",
       "      <td>WEST</td>\n",
       "      <td>D</td>\n",
       "      <td>D3</td>\n",
       "      <td>SLU/CASCADE</td>\n",
       "    </tr>\n",
       "    <tr>\n",
       "      <th>523570</th>\n",
       "      <td>20040000379590</td>\n",
       "      <td>01/01/1998</td>\n",
       "      <td>0.0</td>\n",
       "      <td>09/09/2004</td>\n",
       "      <td>1650.0</td>\n",
       "      <td>SEX OFFENSE-OTHER</td>\n",
       "      <td>SEXOFF-OTHER</td>\n",
       "      <td>UNKNOWN</td>\n",
       "      <td>NaN</td>\n",
       "      <td>NaN</td>\n",
       "      <td>UNKNOWN</td>\n",
       "    </tr>\n",
       "    <tr>\n",
       "      <th>523571</th>\n",
       "      <td>20040000345023</td>\n",
       "      <td>08/17/2004</td>\n",
       "      <td>1100.0</td>\n",
       "      <td>08/17/2004</td>\n",
       "      <td>1559.0</td>\n",
       "      <td>CAR PROWL</td>\n",
       "      <td>THEFT-CARPROWL</td>\n",
       "      <td>WEST</td>\n",
       "      <td>M</td>\n",
       "      <td>M1</td>\n",
       "      <td>DOWNTOWN COMMERCIAL</td>\n",
       "    </tr>\n",
       "    <tr>\n",
       "      <th>523572</th>\n",
       "      <td>20040000230336</td>\n",
       "      <td>06/06/2004</td>\n",
       "      <td>1945.0</td>\n",
       "      <td>06/06/2004</td>\n",
       "      <td>1948.0</td>\n",
       "      <td>AGGRAVATED ASSAULT-DV</td>\n",
       "      <td>ASSLT-AGG-DV-BODYFORCE</td>\n",
       "      <td>SOUTHWEST</td>\n",
       "      <td>W</td>\n",
       "      <td>W1</td>\n",
       "      <td>NORTH ADMIRAL</td>\n",
       "    </tr>\n",
       "    <tr>\n",
       "      <th>523573</th>\n",
       "      <td>20040000209455</td>\n",
       "      <td>05/23/2004</td>\n",
       "      <td>2345.0</td>\n",
       "      <td>05/24/2004</td>\n",
       "      <td>710.0</td>\n",
       "      <td>BURGLARY-RESIDENTIAL</td>\n",
       "      <td>BURGLARY-FORCE-RES</td>\n",
       "      <td>EAST</td>\n",
       "      <td>G</td>\n",
       "      <td>G2</td>\n",
       "      <td>JUDKINS PARK/NORTH BEACON HILL</td>\n",
       "    </tr>\n",
       "    <tr>\n",
       "      <th>523574</th>\n",
       "      <td>2004000023455</td>\n",
       "      <td>01/16/2004</td>\n",
       "      <td>2130.0</td>\n",
       "      <td>01/17/2004</td>\n",
       "      <td>1405.0</td>\n",
       "      <td>RAPE</td>\n",
       "      <td>RAPE-STRONGARM</td>\n",
       "      <td>EAST</td>\n",
       "      <td>C</td>\n",
       "      <td>C2</td>\n",
       "      <td>MILLER PARK</td>\n",
       "    </tr>\n",
       "    <tr>\n",
       "      <th>523575</th>\n",
       "      <td>20020000579098</td>\n",
       "      <td>12/28/2002</td>\n",
       "      <td>253.0</td>\n",
       "      <td>12/28/2002</td>\n",
       "      <td>253.0</td>\n",
       "      <td>HOMICIDE</td>\n",
       "      <td>HOMICIDE-PREMEDITATED-GUN</td>\n",
       "      <td>EAST</td>\n",
       "      <td>G</td>\n",
       "      <td>G2</td>\n",
       "      <td>CENTRAL AREA/SQUIRE PARK</td>\n",
       "    </tr>\n",
       "    <tr>\n",
       "      <th>523576</th>\n",
       "      <td>20020000550289</td>\n",
       "      <td>12/08/2002</td>\n",
       "      <td>1520.0</td>\n",
       "      <td>12/08/2002</td>\n",
       "      <td>1608.0</td>\n",
       "      <td>CAR PROWL</td>\n",
       "      <td>THEFT-CARPROWL</td>\n",
       "      <td>EAST</td>\n",
       "      <td>G</td>\n",
       "      <td>G1</td>\n",
       "      <td>FIRST HILL</td>\n",
       "    </tr>\n",
       "    <tr>\n",
       "      <th>523577</th>\n",
       "      <td>20020000131433</td>\n",
       "      <td>03/27/2002</td>\n",
       "      <td>1307.0</td>\n",
       "      <td>03/27/2002</td>\n",
       "      <td>1307.0</td>\n",
       "      <td>DUI</td>\n",
       "      <td>DUI-LIQUOR</td>\n",
       "      <td>EAST</td>\n",
       "      <td>G</td>\n",
       "      <td>G2</td>\n",
       "      <td>CENTRAL AREA/SQUIRE PARK</td>\n",
       "    </tr>\n",
       "    <tr>\n",
       "      <th>523578</th>\n",
       "      <td>2001000024668</td>\n",
       "      <td>01/15/2001</td>\n",
       "      <td>2310.0</td>\n",
       "      <td>01/15/2001</td>\n",
       "      <td>2310.0</td>\n",
       "      <td>HOMICIDE</td>\n",
       "      <td>HOMICIDE-PREMEDITATED-GUN</td>\n",
       "      <td>WEST</td>\n",
       "      <td>K</td>\n",
       "      <td>K3</td>\n",
       "      <td>DOWNTOWN COMMERCIAL</td>\n",
       "    </tr>\n",
       "    <tr>\n",
       "      <th>523579</th>\n",
       "      <td>20000000216737</td>\n",
       "      <td>05/12/2000</td>\n",
       "      <td>2330.0</td>\n",
       "      <td>05/14/2000</td>\n",
       "      <td>1055.0</td>\n",
       "      <td>CAR PROWL</td>\n",
       "      <td>THEFT-CARPROWL</td>\n",
       "      <td>WEST</td>\n",
       "      <td>Q</td>\n",
       "      <td>Q3</td>\n",
       "      <td>SLU/CASCADE</td>\n",
       "    </tr>\n",
       "    <tr>\n",
       "      <th>523580</th>\n",
       "      <td>19990000333737</td>\n",
       "      <td>NaN</td>\n",
       "      <td>NaN</td>\n",
       "      <td>01/01/1999</td>\n",
       "      <td>NaN</td>\n",
       "      <td>THEFT-SHOPLIFT</td>\n",
       "      <td>THEFT-SHOPLIFT</td>\n",
       "      <td>UNKNOWN</td>\n",
       "      <td>NaN</td>\n",
       "      <td>NaN</td>\n",
       "      <td>UNKNOWN</td>\n",
       "    </tr>\n",
       "    <tr>\n",
       "      <th>523581</th>\n",
       "      <td>19960000543964</td>\n",
       "      <td>12/08/1996</td>\n",
       "      <td>1130.0</td>\n",
       "      <td>12/08/1996</td>\n",
       "      <td>1700.0</td>\n",
       "      <td>CAR PROWL</td>\n",
       "      <td>THEFT-CARPROWL</td>\n",
       "      <td>SOUTH</td>\n",
       "      <td>O</td>\n",
       "      <td>O1</td>\n",
       "      <td>SODO</td>\n",
       "    </tr>\n",
       "    <tr>\n",
       "      <th>523582</th>\n",
       "      <td>19940000264046</td>\n",
       "      <td>06/08/1994</td>\n",
       "      <td>0.0</td>\n",
       "      <td>06/12/1994</td>\n",
       "      <td>844.0</td>\n",
       "      <td>THEFT-ALL OTHER</td>\n",
       "      <td>THEFT-OTH</td>\n",
       "      <td>SOUTHWEST</td>\n",
       "      <td>F</td>\n",
       "      <td>F1</td>\n",
       "      <td>HIGH POINT</td>\n",
       "    </tr>\n",
       "    <tr>\n",
       "      <th>523583</th>\n",
       "      <td>19930000465323</td>\n",
       "      <td>10/08/1993</td>\n",
       "      <td>2213.0</td>\n",
       "      <td>10/08/1993</td>\n",
       "      <td>2213.0</td>\n",
       "      <td>HOMICIDE</td>\n",
       "      <td>HOMICIDE-PREMEDITATED-GUN</td>\n",
       "      <td>SOUTH</td>\n",
       "      <td>R</td>\n",
       "      <td>R2</td>\n",
       "      <td>CLAREMONT/RAINIER VISTA</td>\n",
       "    </tr>\n",
       "    <tr>\n",
       "      <th>523584</th>\n",
       "      <td>19880000507482</td>\n",
       "      <td>09/29/1988</td>\n",
       "      <td>155.0</td>\n",
       "      <td>09/29/1988</td>\n",
       "      <td>155.0</td>\n",
       "      <td>MOTOR VEHICLE THEFT</td>\n",
       "      <td>VEH-THEFT-AUTO</td>\n",
       "      <td>WEST</td>\n",
       "      <td>M</td>\n",
       "      <td>M2</td>\n",
       "      <td>SLU/CASCADE</td>\n",
       "    </tr>\n",
       "    <tr>\n",
       "      <th>523585</th>\n",
       "      <td>19810000305573</td>\n",
       "      <td>08/22/1981</td>\n",
       "      <td>2029.0</td>\n",
       "      <td>08/22/1981</td>\n",
       "      <td>2030.0</td>\n",
       "      <td>HOMICIDE</td>\n",
       "      <td>HOMICIDE-PREMEDITATED-WEAPON</td>\n",
       "      <td>SOUTH</td>\n",
       "      <td>S</td>\n",
       "      <td>S2</td>\n",
       "      <td>BRIGHTON/DUNLAP</td>\n",
       "    </tr>\n",
       "    <tr>\n",
       "      <th>523586</th>\n",
       "      <td>1981000076456</td>\n",
       "      <td>02/14/1981</td>\n",
       "      <td>2000.0</td>\n",
       "      <td>02/15/1981</td>\n",
       "      <td>435.0</td>\n",
       "      <td>BURGLARY-RESIDENTIAL</td>\n",
       "      <td>BURGLARY-FORCE-RES</td>\n",
       "      <td>SOUTHWEST</td>\n",
       "      <td>W</td>\n",
       "      <td>W3</td>\n",
       "      <td>ROXHILL/WESTWOOD/ARBOR HEIGHTS</td>\n",
       "    </tr>\n",
       "    <tr>\n",
       "      <th>523587</th>\n",
       "      <td>1979000049118</td>\n",
       "      <td>01/28/1979</td>\n",
       "      <td>1600.0</td>\n",
       "      <td>02/09/1979</td>\n",
       "      <td>1430.0</td>\n",
       "      <td>CAR PROWL</td>\n",
       "      <td>THEFT-CARPROWL</td>\n",
       "      <td>EAST</td>\n",
       "      <td>G</td>\n",
       "      <td>G2</td>\n",
       "      <td>CENTRAL AREA/SQUIRE PARK</td>\n",
       "    </tr>\n",
       "    <tr>\n",
       "      <th>523588</th>\n",
       "      <td>1976000069169</td>\n",
       "      <td>01/01/1976</td>\n",
       "      <td>1.0</td>\n",
       "      <td>01/31/1976</td>\n",
       "      <td>2359.0</td>\n",
       "      <td>SEX OFFENSE-OTHER</td>\n",
       "      <td>SEXOFF-INDECENT LIBERTIES</td>\n",
       "      <td>UNKNOWN</td>\n",
       "      <td>NaN</td>\n",
       "      <td>NaN</td>\n",
       "      <td>UNKNOWN</td>\n",
       "    </tr>\n",
       "    <tr>\n",
       "      <th>523589</th>\n",
       "      <td>1975000079415</td>\n",
       "      <td>12/16/1975</td>\n",
       "      <td>900.0</td>\n",
       "      <td>12/16/1975</td>\n",
       "      <td>1500.0</td>\n",
       "      <td>BURGLARY-RESIDENTIAL</td>\n",
       "      <td>BURGLARY-FORCE-RES</td>\n",
       "      <td>SOUTH</td>\n",
       "      <td>R</td>\n",
       "      <td>R3</td>\n",
       "      <td>LAKEWOOD/SEWARD PARK</td>\n",
       "    </tr>\n",
       "  </tbody>\n",
       "</table>\n",
       "<p>523590 rows × 11 columns</p>\n",
       "</div>"
      ],
      "text/plain": [
       "         Report_Number Occurred_Date  Occurred_Time Reported_Date  \\\n",
       "0       20190000905007    05/06/2019         1800.0    05/07/2019   \n",
       "1       20190000905022    04/25/2019         2100.0    05/07/2019   \n",
       "2       20190000162679    04/12/2019            1.0    05/07/2019   \n",
       "3       20190000162720    05/07/2019          149.0    05/07/2019   \n",
       "4       20190000904999    05/05/2019         1230.0    05/07/2019   \n",
       "5       20190000905012    05/06/2019         1105.0    05/07/2019   \n",
       "6       20190000905020    04/30/2019         1520.0    05/07/2019   \n",
       "7       20190000905003    05/07/2019          510.0    05/07/2019   \n",
       "8       20190000905015    05/04/2019          900.0    05/07/2019   \n",
       "9       20190000905023    05/05/2019         1400.0    05/07/2019   \n",
       "10      20190000905009    05/06/2019         1800.0    05/07/2019   \n",
       "11      20190000905018    05/04/2019          645.0    05/07/2019   \n",
       "12      20190000905010    05/04/2019          500.0    05/07/2019   \n",
       "13      20190000905025    05/06/2019         1840.0    05/07/2019   \n",
       "14      20190000905001    05/06/2019         1200.0    05/07/2019   \n",
       "15      20190000905019    05/06/2019         2300.0    05/07/2019   \n",
       "16      20190000162691    05/07/2019           28.0    05/07/2019   \n",
       "17      20190000905002    05/06/2019         2230.0    05/07/2019   \n",
       "18      20190000905014    05/07/2019            1.0    05/07/2019   \n",
       "19      20190000905017    05/07/2019          100.0    05/07/2019   \n",
       "20      20190000905006    05/05/2019         1600.0    05/07/2019   \n",
       "21      20190000904998    05/06/2019         2100.0    05/07/2019   \n",
       "22      20190000163087    05/07/2019          950.0    05/07/2019   \n",
       "23      20190000905013    05/06/2019         2030.0    05/07/2019   \n",
       "24      20190000162483    05/06/2019         2000.0    05/07/2019   \n",
       "25      20190000905016    05/07/2019          800.0    05/07/2019   \n",
       "26      20190000161619    05/06/2019          931.0    05/06/2019   \n",
       "27      20190000161427    05/06/2019          524.0    05/06/2019   \n",
       "28      20190000161991    05/05/2019          200.0    05/06/2019   \n",
       "29      20190000161490    05/06/2019          200.0    05/06/2019   \n",
       "...                ...           ...            ...           ...   \n",
       "523560  20060000197161    05/17/2006           19.0    05/17/2006   \n",
       "523561  20060000161445    04/23/2006          947.0    04/23/2006   \n",
       "523562  20060000166659    01/01/2006          130.0    01/01/2006   \n",
       "523563  20050000518938    12/06/2005         1700.0    12/06/2005   \n",
       "523564  20050000518223    12/06/2005            0.0    12/06/2005   \n",
       "523565  20050000437363    10/12/2005          415.0    10/12/2005   \n",
       "523566  20050000221638    05/29/2005            0.0    05/30/2005   \n",
       "523567  20050000206219    05/20/2005          900.0    05/20/2005   \n",
       "523568   2005000019535    01/14/2005         2144.0    01/14/2005   \n",
       "523569  20040000493537    11/26/2004         1800.0    11/26/2004   \n",
       "523570  20040000379590    01/01/1998            0.0    09/09/2004   \n",
       "523571  20040000345023    08/17/2004         1100.0    08/17/2004   \n",
       "523572  20040000230336    06/06/2004         1945.0    06/06/2004   \n",
       "523573  20040000209455    05/23/2004         2345.0    05/24/2004   \n",
       "523574   2004000023455    01/16/2004         2130.0    01/17/2004   \n",
       "523575  20020000579098    12/28/2002          253.0    12/28/2002   \n",
       "523576  20020000550289    12/08/2002         1520.0    12/08/2002   \n",
       "523577  20020000131433    03/27/2002         1307.0    03/27/2002   \n",
       "523578   2001000024668    01/15/2001         2310.0    01/15/2001   \n",
       "523579  20000000216737    05/12/2000         2330.0    05/14/2000   \n",
       "523580  19990000333737           NaN            NaN    01/01/1999   \n",
       "523581  19960000543964    12/08/1996         1130.0    12/08/1996   \n",
       "523582  19940000264046    06/08/1994            0.0    06/12/1994   \n",
       "523583  19930000465323    10/08/1993         2213.0    10/08/1993   \n",
       "523584  19880000507482    09/29/1988          155.0    09/29/1988   \n",
       "523585  19810000305573    08/22/1981         2029.0    08/22/1981   \n",
       "523586   1981000076456    02/14/1981         2000.0    02/15/1981   \n",
       "523587   1979000049118    01/28/1979         1600.0    02/09/1979   \n",
       "523588   1976000069169    01/01/1976            1.0    01/31/1976   \n",
       "523589   1975000079415    12/16/1975          900.0    12/16/1975   \n",
       "\n",
       "        Reported_Time                    Crime_Subcategory  \\\n",
       "0              1008.0                            CAR PROWL   \n",
       "1              1407.0                       THEFT-BUILDING   \n",
       "2               122.0                      THEFT-ALL OTHER   \n",
       "3               149.0                                  DUI   \n",
       "4               839.0                       THEFT-BUILDING   \n",
       "5              1125.0                            CAR PROWL   \n",
       "6              1325.0                            CAR PROWL   \n",
       "7               936.0                            CAR PROWL   \n",
       "8              1140.0                      THEFT-ALL OTHER   \n",
       "9              1426.0                      THEFT-ALL OTHER   \n",
       "10              946.0                      THEFT-ALL OTHER   \n",
       "11             1253.0                            CAR PROWL   \n",
       "12              943.0                            CAR PROWL   \n",
       "13             1515.0                            CAR PROWL   \n",
       "14              931.0                        THEFT-BICYCLE   \n",
       "15             1321.0                            CAR PROWL   \n",
       "16               28.0                             TRESPASS   \n",
       "17              845.0                            CAR PROWL   \n",
       "18             1029.0                            CAR PROWL   \n",
       "19             1218.0                        THEFT-BICYCLE   \n",
       "20             1106.0                            CAR PROWL   \n",
       "21              740.0                            CAR PROWL   \n",
       "22              950.0                    SEX OFFENSE-OTHER   \n",
       "23             1132.0                            CAR PROWL   \n",
       "24              146.0                  BURGLARY-COMMERCIAL   \n",
       "25             1158.0                            CAR PROWL   \n",
       "26              931.0                  BURGLARY-COMMERCIAL   \n",
       "27              655.0                  BURGLARY-COMMERCIAL   \n",
       "28             1531.0  BURGLARY-RESIDENTIAL-SECURE PARKING   \n",
       "29              745.0                            CAR PROWL   \n",
       "...               ...                                  ...   \n",
       "523560           19.0                             HOMICIDE   \n",
       "523561          950.0                   AGGRAVATED ASSAULT   \n",
       "523562          130.0                                  DUI   \n",
       "523563         1748.0                       ROBBERY-STREET   \n",
       "523564            0.0                    SEX OFFENSE-OTHER   \n",
       "523565          415.0                 BURGLARY-RESIDENTIAL   \n",
       "523566            0.0                   AGGRAVATED ASSAULT   \n",
       "523567          900.0                    SEX OFFENSE-OTHER   \n",
       "523568         2144.0                    SEX OFFENSE-OTHER   \n",
       "523569         2002.0                            CAR PROWL   \n",
       "523570         1650.0                    SEX OFFENSE-OTHER   \n",
       "523571         1559.0                            CAR PROWL   \n",
       "523572         1948.0                AGGRAVATED ASSAULT-DV   \n",
       "523573          710.0                 BURGLARY-RESIDENTIAL   \n",
       "523574         1405.0                                 RAPE   \n",
       "523575          253.0                             HOMICIDE   \n",
       "523576         1608.0                            CAR PROWL   \n",
       "523577         1307.0                                  DUI   \n",
       "523578         2310.0                             HOMICIDE   \n",
       "523579         1055.0                            CAR PROWL   \n",
       "523580            NaN                       THEFT-SHOPLIFT   \n",
       "523581         1700.0                            CAR PROWL   \n",
       "523582          844.0                      THEFT-ALL OTHER   \n",
       "523583         2213.0                             HOMICIDE   \n",
       "523584          155.0                  MOTOR VEHICLE THEFT   \n",
       "523585         2030.0                             HOMICIDE   \n",
       "523586          435.0                 BURGLARY-RESIDENTIAL   \n",
       "523587         1430.0                            CAR PROWL   \n",
       "523588         2359.0                    SEX OFFENSE-OTHER   \n",
       "523589         1500.0                 BURGLARY-RESIDENTIAL   \n",
       "\n",
       "         Primary_Offense_Description   Precinct Sector Beat  \\\n",
       "0                     THEFT-CARPROWL      NORTH      J   J3   \n",
       "1                     THEFT-BUILDING       WEST      D   D3   \n",
       "2                          THEFT-OTH  SOUTHWEST      F   F1   \n",
       "3                          DUI-DRUGS       EAST      E   E3   \n",
       "4                     THEFT-BUILDING       WEST      D   D2   \n",
       "5                     THEFT-CARPROWL      NORTH      N   N3   \n",
       "6                     THEFT-CARPROWL       WEST      K   K1   \n",
       "7                     THEFT-CARPROWL       WEST      K   K1   \n",
       "8                         THEFT-MAIL      NORTH      L   L2   \n",
       "9                          THEFT-OTH  SOUTHWEST      F   F1   \n",
       "10                         THEFT-OTH       WEST      D   D1   \n",
       "11                    THEFT-CARPROWL       WEST      M   M3   \n",
       "12                    THEFT-CARPROWL       WEST      Q   Q2   \n",
       "13                    THEFT-CARPROWL      NORTH      L   L2   \n",
       "14                     THEFT-BICYCLE       WEST      M   M2   \n",
       "15                    THEFT-CARPROWL      NORTH      U   U1   \n",
       "16                          TRESPASS       WEST      Q   Q2   \n",
       "17                    THEFT-CARPROWL      NORTH      J   J3   \n",
       "18                    THEFT-CARPROWL      NORTH      N   N1   \n",
       "19                     THEFT-BICYCLE      NORTH      B   B2   \n",
       "20                    THEFT-CARPROWL       WEST      D   D2   \n",
       "21                    THEFT-CARPROWL      NORTH      J   J2   \n",
       "22                      SEXOFF-OTHER    UNKNOWN    NaN  NaN   \n",
       "23                    THEFT-CARPROWL      NORTH      B   B1   \n",
       "24           BURGLARY-NOFORCE-NONRES      SOUTH      O   O1   \n",
       "25                    THEFT-CARPROWL      NORTH      J   J2   \n",
       "26             BURGLARY-FORCE-NONRES       WEST      M   M3   \n",
       "27             BURGLARY-FORCE-NONRES      NORTH      J   J1   \n",
       "28       BURGLARY-SECURE PARKING-RES       WEST      Q   Q1   \n",
       "29                    THEFT-CARPROWL      SOUTH      O   O3   \n",
       "...                              ...        ...    ...  ...   \n",
       "523560  HOMICIDE-PREMEDITATED-WEAPON      SOUTH      S   S1   \n",
       "523561          ASSLT-AGG-POLICE-GUN      NORTH      N   N3   \n",
       "523562                    DUI-LIQUOR      NORTH      L   L3   \n",
       "523563      ROBBERY-STREET-BODYFORCE  SOUTHWEST      F   F2   \n",
       "523564     SEXOFF-INDECENT LIBERTIES       EAST      E   E1   \n",
       "523565            BURGLARY-FORCE-RES       EAST      C   C2   \n",
       "523566                 ASSLT-AGG-GUN  SOUTHWEST      F   F3   \n",
       "523567     SEXOFF-INDECENT LIBERTIES  SOUTHWEST      W   W3   \n",
       "523568     SEXOFF-INDECENT LIBERTIES      SOUTH      R   R3   \n",
       "523569                THEFT-CARPROWL       WEST      D   D3   \n",
       "523570                  SEXOFF-OTHER    UNKNOWN    NaN  NaN   \n",
       "523571                THEFT-CARPROWL       WEST      M   M1   \n",
       "523572        ASSLT-AGG-DV-BODYFORCE  SOUTHWEST      W   W1   \n",
       "523573            BURGLARY-FORCE-RES       EAST      G   G2   \n",
       "523574                RAPE-STRONGARM       EAST      C   C2   \n",
       "523575     HOMICIDE-PREMEDITATED-GUN       EAST      G   G2   \n",
       "523576                THEFT-CARPROWL       EAST      G   G1   \n",
       "523577                    DUI-LIQUOR       EAST      G   G2   \n",
       "523578     HOMICIDE-PREMEDITATED-GUN       WEST      K   K3   \n",
       "523579                THEFT-CARPROWL       WEST      Q   Q3   \n",
       "523580                THEFT-SHOPLIFT    UNKNOWN    NaN  NaN   \n",
       "523581                THEFT-CARPROWL      SOUTH      O   O1   \n",
       "523582                     THEFT-OTH  SOUTHWEST      F   F1   \n",
       "523583     HOMICIDE-PREMEDITATED-GUN      SOUTH      R   R2   \n",
       "523584                VEH-THEFT-AUTO       WEST      M   M2   \n",
       "523585  HOMICIDE-PREMEDITATED-WEAPON      SOUTH      S   S2   \n",
       "523586            BURGLARY-FORCE-RES  SOUTHWEST      W   W3   \n",
       "523587                THEFT-CARPROWL       EAST      G   G2   \n",
       "523588     SEXOFF-INDECENT LIBERTIES    UNKNOWN    NaN  NaN   \n",
       "523589            BURGLARY-FORCE-RES      SOUTH      R   R3   \n",
       "\n",
       "                          Neighborhood  \n",
       "0                        PHINNEY RIDGE  \n",
       "1                          SLU/CASCADE  \n",
       "2                       NORTH DELRIDGE  \n",
       "3                         CAPITOL HILL  \n",
       "4                          SLU/CASCADE  \n",
       "5                            GREENWOOD  \n",
       "6                  DOWNTOWN COMMERCIAL  \n",
       "7                  DOWNTOWN COMMERCIAL  \n",
       "8                            NORTHGATE  \n",
       "9                         PIGEON POINT  \n",
       "10                            BELLTOWN  \n",
       "11                 DOWNTOWN COMMERCIAL  \n",
       "12                          QUEEN ANNE  \n",
       "13                           NORTHGATE  \n",
       "14                         SLU/CASCADE  \n",
       "15                   ROOSEVELT/RAVENNA  \n",
       "16                          QUEEN ANNE  \n",
       "17                   ROOSEVELT/RAVENNA  \n",
       "18                          BITTERLAKE  \n",
       "19                             FREMONT  \n",
       "20                          QUEEN ANNE  \n",
       "21                       BALLARD NORTH  \n",
       "22                             UNKNOWN  \n",
       "23                       BALLARD SOUTH  \n",
       "24                                SODO  \n",
       "25                       BALLARD NORTH  \n",
       "26                 DOWNTOWN COMMERCIAL  \n",
       "27                       BALLARD NORTH  \n",
       "28                            MAGNOLIA  \n",
       "29                     MID BEACON HILL  \n",
       "...                                ...  \n",
       "523560                       NEW HOLLY  \n",
       "523561                       NORTHGATE  \n",
       "523562                        LAKECITY  \n",
       "523563  ROXHILL/WESTWOOD/ARBOR HEIGHTS  \n",
       "523564                    CAPITOL HILL  \n",
       "523565            MONTLAKE/PORTAGE BAY  \n",
       "523566                      SOUTH PARK  \n",
       "523567                          MORGAN  \n",
       "523568                    HILLMAN CITY  \n",
       "523569                     SLU/CASCADE  \n",
       "523570                         UNKNOWN  \n",
       "523571             DOWNTOWN COMMERCIAL  \n",
       "523572                   NORTH ADMIRAL  \n",
       "523573  JUDKINS PARK/NORTH BEACON HILL  \n",
       "523574                     MILLER PARK  \n",
       "523575        CENTRAL AREA/SQUIRE PARK  \n",
       "523576                      FIRST HILL  \n",
       "523577        CENTRAL AREA/SQUIRE PARK  \n",
       "523578             DOWNTOWN COMMERCIAL  \n",
       "523579                     SLU/CASCADE  \n",
       "523580                         UNKNOWN  \n",
       "523581                            SODO  \n",
       "523582                      HIGH POINT  \n",
       "523583         CLAREMONT/RAINIER VISTA  \n",
       "523584                     SLU/CASCADE  \n",
       "523585                 BRIGHTON/DUNLAP  \n",
       "523586  ROXHILL/WESTWOOD/ARBOR HEIGHTS  \n",
       "523587        CENTRAL AREA/SQUIRE PARK  \n",
       "523588                         UNKNOWN  \n",
       "523589            LAKEWOOD/SEWARD PARK  \n",
       "\n",
       "[523590 rows x 11 columns]"
      ]
     },
     "execution_count": 139,
     "metadata": {},
     "output_type": "execute_result"
    }
   ],
   "source": [
    "import dateutil.parser as parser\n",
    "count = 0\n",
    "#for x in range(len(crime['Occurred_Date'])):\n",
    "    #if parser.parse(crime['Occurred_Date'][x]).year == 2015:\n",
    "        #count += 1\n",
    "#count\n",
    "#parser.parse(crime['Occurred_Date'][0]).year\n",
    "crime"
   ]
  },
  {
   "cell_type": "markdown",
   "metadata": {},
   "source": [
    "# Data Exploration"
   ]
  },
  {
   "cell_type": "markdown",
   "metadata": {},
   "source": [
    "A side note: Most of the visualizations for this project will be done in Tableau for a more pleasing and interactive presentation. "
   ]
  },
  {
   "cell_type": "markdown",
   "metadata": {},
   "source": [
    "Let us begin by diving into the data. I will use the visuals along the way to come up with with hypotheses to test out in a later section. "
   ]
  },
  {
   "cell_type": "markdown",
   "metadata": {},
   "source": [
    "Let us first see how the 2015 and 2016 actuals were distributed among the deparments. "
   ]
  },
  {
   "cell_type": "code",
   "execution_count": 140,
   "metadata": {},
   "outputs": [
    {
     "data": {
      "text/html": [
       "<div class='tableauPlaceholder' id='viz1558632667204' style='position: relative'><noscript><a href='#'><img alt=' ' src='https:&#47;&#47;public.tableau.com&#47;static&#47;images&#47;Se&#47;Seattle2015Actuals&#47;Dashboard1&#47;1_rss.png' style='border: none' /></a></noscript><object class='tableauViz'  style='display:none;'><param name='host_url' value='https%3A%2F%2Fpublic.tableau.com%2F' /> <param name='embed_code_version' value='3' /> <param name='site_root' value='' /><param name='name' value='Seattle2015Actuals&#47;Dashboard1' /><param name='tabs' value='no' /><param name='toolbar' value='yes' /><param name='static_image' value='https:&#47;&#47;public.tableau.com&#47;static&#47;images&#47;Se&#47;Seattle2015Actuals&#47;Dashboard1&#47;1.png' /> <param name='animate_transition' value='yes' /><param name='display_static_image' value='yes' /><param name='display_spinner' value='yes' /><param name='display_overlay' value='yes' /><param name='display_count' value='yes' /><param name='filter' value='publish=yes' /></object></div>                <script type='text/javascript'>                    var divElement = document.getElementById('viz1558632667204');                    var vizElement = divElement.getElementsByTagName('object')[0];                    vizElement.style.minWidth='420px';vizElement.style.maxWidth='650px';vizElement.style.width='100%';vizElement.style.minHeight='587px';vizElement.style.maxHeight='887px';vizElement.style.height=(divElement.offsetWidth*0.75)+'px';                    var scriptElement = document.createElement('script');                    scriptElement.src = 'https://public.tableau.com/javascripts/api/viz_v1.js';                    vizElement.parentNode.insertBefore(scriptElement, vizElement);                </script>\n"
      ],
      "text/plain": [
       "<IPython.core.display.HTML object>"
      ]
     },
     "metadata": {},
     "output_type": "display_data"
    }
   ],
   "source": [
    "%%HTML\n",
    "<div class='tableauPlaceholder' id='viz1558632667204' style='position: relative'><noscript><a href='#'><img alt=' ' src='https:&#47;&#47;public.tableau.com&#47;static&#47;images&#47;Se&#47;Seattle2015Actuals&#47;Dashboard1&#47;1_rss.png' style='border: none' /></a></noscript><object class='tableauViz'  style='display:none;'><param name='host_url' value='https%3A%2F%2Fpublic.tableau.com%2F' /> <param name='embed_code_version' value='3' /> <param name='site_root' value='' /><param name='name' value='Seattle2015Actuals&#47;Dashboard1' /><param name='tabs' value='no' /><param name='toolbar' value='yes' /><param name='static_image' value='https:&#47;&#47;public.tableau.com&#47;static&#47;images&#47;Se&#47;Seattle2015Actuals&#47;Dashboard1&#47;1.png' /> <param name='animate_transition' value='yes' /><param name='display_static_image' value='yes' /><param name='display_spinner' value='yes' /><param name='display_overlay' value='yes' /><param name='display_count' value='yes' /><param name='filter' value='publish=yes' /></object></div>                <script type='text/javascript'>                    var divElement = document.getElementById('viz1558632667204');                    var vizElement = divElement.getElementsByTagName('object')[0];                    vizElement.style.minWidth='420px';vizElement.style.maxWidth='650px';vizElement.style.width='100%';vizElement.style.minHeight='587px';vizElement.style.maxHeight='887px';vizElement.style.height=(divElement.offsetWidth*0.75)+'px';                    var scriptElement = document.createElement('script');                    scriptElement.src = 'https://public.tableau.com/javascripts/api/viz_v1.js';                    vizElement.parentNode.insertBefore(scriptElement, vizElement);                </script>"
   ]
  },
  {
   "cell_type": "markdown",
   "metadata": {},
   "source": [
    "As we can see, general expenses recieved the largest cut of the 2015 budget. The other larger expenseses were focussed mainly on preservation and construction (Parks, Alaskan way Viaduct, Library fund). The Human Services Operating fund provides health and support care to various causes. Trauma care, community connections and senior centers just to name a few. (Source: http://www.seattle.gov/humanservices/funding-and-reports/funding-opportunities). "
   ]
  },
  {
   "cell_type": "markdown",
   "metadata": {},
   "source": [
    "Some notable programs that got little to no funding at all include: homeless shelter development, community engagement, and youth violance prevention. "
   ]
  },
  {
   "cell_type": "markdown",
   "metadata": {},
   "source": [
    "Next, let's see if the 2016 distribution has any significant changes. "
   ]
  },
  {
   "cell_type": "code",
   "execution_count": 141,
   "metadata": {},
   "outputs": [
    {
     "data": {
      "text/html": [
       "<div class='tableauPlaceholder' id='viz1558642786190' style='position: relative'><noscript><a href='#'><img alt=' ' src='https:&#47;&#47;public.tableau.com&#47;static&#47;images&#47;Se&#47;Seattle2016Actuals&#47;Dashboard2&#47;1_rss.png' style='border: none' /></a></noscript><object class='tableauViz'  style='display:none;'><param name='host_url' value='https%3A%2F%2Fpublic.tableau.com%2F' /> <param name='embed_code_version' value='3' /> <param name='site_root' value='' /><param name='name' value='Seattle2016Actuals&#47;Dashboard2' /><param name='tabs' value='no' /><param name='toolbar' value='yes' /><param name='static_image' value='https:&#47;&#47;public.tableau.com&#47;static&#47;images&#47;Se&#47;Seattle2016Actuals&#47;Dashboard2&#47;1.png' /> <param name='animate_transition' value='yes' /><param name='display_static_image' value='yes' /><param name='display_spinner' value='yes' /><param name='display_overlay' value='yes' /><param name='display_count' value='yes' /><param name='filter' value='publish=yes' /></object></div>                <script type='text/javascript'>                    var divElement = document.getElementById('viz1558642786190');                    var vizElement = divElement.getElementsByTagName('object')[0];                    vizElement.style.minWidth='420px';vizElement.style.maxWidth='650px';vizElement.style.width='100%';vizElement.style.minHeight='587px';vizElement.style.maxHeight='887px';vizElement.style.height=(divElement.offsetWidth*0.75)+'px';                    var scriptElement = document.createElement('script');                    scriptElement.src = 'https://public.tableau.com/javascripts/api/viz_v1.js';                    vizElement.parentNode.insertBefore(scriptElement, vizElement);                </script>\n"
      ],
      "text/plain": [
       "<IPython.core.display.HTML object>"
      ]
     },
     "metadata": {},
     "output_type": "display_data"
    }
   ],
   "source": [
    "%%HTML\n",
    "<div class='tableauPlaceholder' id='viz1558642786190' style='position: relative'><noscript><a href='#'><img alt=' ' src='https:&#47;&#47;public.tableau.com&#47;static&#47;images&#47;Se&#47;Seattle2016Actuals&#47;Dashboard2&#47;1_rss.png' style='border: none' /></a></noscript><object class='tableauViz'  style='display:none;'><param name='host_url' value='https%3A%2F%2Fpublic.tableau.com%2F' /> <param name='embed_code_version' value='3' /> <param name='site_root' value='' /><param name='name' value='Seattle2016Actuals&#47;Dashboard2' /><param name='tabs' value='no' /><param name='toolbar' value='yes' /><param name='static_image' value='https:&#47;&#47;public.tableau.com&#47;static&#47;images&#47;Se&#47;Seattle2016Actuals&#47;Dashboard2&#47;1.png' /> <param name='animate_transition' value='yes' /><param name='display_static_image' value='yes' /><param name='display_spinner' value='yes' /><param name='display_overlay' value='yes' /><param name='display_count' value='yes' /><param name='filter' value='publish=yes' /></object></div>                <script type='text/javascript'>                    var divElement = document.getElementById('viz1558642786190');                    var vizElement = divElement.getElementsByTagName('object')[0];                    vizElement.style.minWidth='420px';vizElement.style.maxWidth='650px';vizElement.style.width='100%';vizElement.style.minHeight='587px';vizElement.style.maxHeight='887px';vizElement.style.height=(divElement.offsetWidth*0.75)+'px';                    var scriptElement = document.createElement('script');                    scriptElement.src = 'https://public.tableau.com/javascripts/api/viz_v1.js';                    vizElement.parentNode.insertBefore(scriptElement, vizElement);                </script>"
   ]
  },
  {
   "cell_type": "markdown",
   "metadata": {},
   "source": [
    "Comparing the two years, it's hard to see any significant difference in the data especially when it comes to programs related to preventing crime. To visualize the data for our purposes better, I will filter out the programs that are not directly related to crime and calculate the change in funding from 2015 to 2016. To do this I will simply calculate (2016 Actuals) - (2015 Actuals) to the program names I deem relavent to crime. Of course this will introduce some selection bias to our analysis but it will provide a more intuitive picture of the crime landscape."
   ]
  },
  {
   "cell_type": "code",
   "execution_count": 142,
   "metadata": {},
   "outputs": [
    {
     "data": {
      "text/html": [
       "<div class='tableauPlaceholder' id='viz1558643870820' style='position: relative'><noscript><a href='#'><img alt=' ' src='https:&#47;&#47;public.tableau.com&#47;static&#47;images&#47;Se&#47;SeattleCrimefundingdifferences&#47;Sheet5&#47;1_rss.png' style='border: none' /></a></noscript><object class='tableauViz'  style='display:none;'><param name='host_url' value='https%3A%2F%2Fpublic.tableau.com%2F' /> <param name='embed_code_version' value='3' /> <param name='site_root' value='' /><param name='name' value='SeattleCrimefundingdifferences&#47;Sheet5' /><param name='tabs' value='no' /><param name='toolbar' value='yes' /><param name='static_image' value='https:&#47;&#47;public.tableau.com&#47;static&#47;images&#47;Se&#47;SeattleCrimefundingdifferences&#47;Sheet5&#47;1.png' /> <param name='animate_transition' value='yes' /><param name='display_static_image' value='yes' /><param name='display_spinner' value='yes' /><param name='display_overlay' value='yes' /><param name='display_count' value='yes' /><param name='filter' value='publish=yes' /></object></div>                <script type='text/javascript'>                    var divElement = document.getElementById('viz1558643870820');                    var vizElement = divElement.getElementsByTagName('object')[0];                    vizElement.style.width='100%';vizElement.style.height=(divElement.offsetWidth*0.75)+'px';                    var scriptElement = document.createElement('script');                    scriptElement.src = 'https://public.tableau.com/javascripts/api/viz_v1.js';                    vizElement.parentNode.insertBefore(scriptElement, vizElement);                </script>\n"
      ],
      "text/plain": [
       "<IPython.core.display.HTML object>"
      ]
     },
     "metadata": {},
     "output_type": "display_data"
    }
   ],
   "source": [
    "%%HTML\n",
    "<div class='tableauPlaceholder' id='viz1558643870820' style='position: relative'><noscript><a href='#'><img alt=' ' src='https:&#47;&#47;public.tableau.com&#47;static&#47;images&#47;Se&#47;SeattleCrimefundingdifferences&#47;Sheet5&#47;1_rss.png' style='border: none' /></a></noscript><object class='tableauViz'  style='display:none;'><param name='host_url' value='https%3A%2F%2Fpublic.tableau.com%2F' /> <param name='embed_code_version' value='3' /> <param name='site_root' value='' /><param name='name' value='SeattleCrimefundingdifferences&#47;Sheet5' /><param name='tabs' value='no' /><param name='toolbar' value='yes' /><param name='static_image' value='https:&#47;&#47;public.tableau.com&#47;static&#47;images&#47;Se&#47;SeattleCrimefundingdifferences&#47;Sheet5&#47;1.png' /> <param name='animate_transition' value='yes' /><param name='display_static_image' value='yes' /><param name='display_spinner' value='yes' /><param name='display_overlay' value='yes' /><param name='display_count' value='yes' /><param name='filter' value='publish=yes' /></object></div>                <script type='text/javascript'>                    var divElement = document.getElementById('viz1558643870820');                    var vizElement = divElement.getElementsByTagName('object')[0];                    vizElement.style.width='100%';vizElement.style.height=(divElement.offsetWidth*0.75)+'px';                    var scriptElement = document.createElement('script');                    scriptElement.src = 'https://public.tableau.com/javascripts/api/viz_v1.js';                    vizElement.parentNode.insertBefore(scriptElement, vizElement);                </script>"
   ]
  },
  {
   "cell_type": "markdown",
   "metadata": {},
   "source": [
    "From what we see here, it seems that in 2016 Seattle focussed its efforts towards revamping it justice and homeless policies hence the increased funding towards homeless intervention and the deparment of justice/police accountability programs. Surpisingly, funding towards programs that relate directly to crime prevention and the police took a hit. Noteably, emergency response, domestic violence detectives, narcotic investigations etc. "
   ]
  },
  {
   "cell_type": "markdown",
   "metadata": {},
   "source": [
    "We could argue that the decrease in funds to those crime fighting programs may be because the crime rate decreased in 2016. Let's take a look at that "
   ]
  },
  {
   "cell_type": "code",
   "execution_count": 143,
   "metadata": {},
   "outputs": [
    {
     "data": {
      "text/html": [
       "<div class='tableauPlaceholder' id='viz1558645821550' style='position: relative'><noscript><a href='#'><img alt=' ' src='https:&#47;&#47;public.tableau.com&#47;static&#47;images&#47;Cr&#47;Crimethroughouttheyears&#47;Sheet4&#47;1_rss.png' style='border: none' /></a></noscript><object class='tableauViz'  style='display:none;'><param name='host_url' value='https%3A%2F%2Fpublic.tableau.com%2F' /> <param name='embed_code_version' value='3' /> <param name='site_root' value='' /><param name='name' value='Crimethroughouttheyears&#47;Sheet4' /><param name='tabs' value='no' /><param name='toolbar' value='yes' /><param name='static_image' value='https:&#47;&#47;public.tableau.com&#47;static&#47;images&#47;Cr&#47;Crimethroughouttheyears&#47;Sheet4&#47;1.png' /> <param name='animate_transition' value='yes' /><param name='display_static_image' value='yes' /><param name='display_spinner' value='yes' /><param name='display_overlay' value='yes' /><param name='display_count' value='yes' /><param name='filter' value='publish=yes' /></object></div>                <script type='text/javascript'>                    var divElement = document.getElementById('viz1558645821550');                    var vizElement = divElement.getElementsByTagName('object')[0];                    vizElement.style.width='100%';vizElement.style.height=(divElement.offsetWidth*0.75)+'px';                    var scriptElement = document.createElement('script');                    scriptElement.src = 'https://public.tableau.com/javascripts/api/viz_v1.js';                    vizElement.parentNode.insertBefore(scriptElement, vizElement);                </script>\n"
      ],
      "text/plain": [
       "<IPython.core.display.HTML object>"
      ]
     },
     "metadata": {},
     "output_type": "display_data"
    }
   ],
   "source": [
    "%%HTML\n",
    "<div class='tableauPlaceholder' id='viz1558645821550' style='position: relative'><noscript><a href='#'><img alt=' ' src='https:&#47;&#47;public.tableau.com&#47;static&#47;images&#47;Cr&#47;Crimethroughouttheyears&#47;Sheet4&#47;1_rss.png' style='border: none' /></a></noscript><object class='tableauViz'  style='display:none;'><param name='host_url' value='https%3A%2F%2Fpublic.tableau.com%2F' /> <param name='embed_code_version' value='3' /> <param name='site_root' value='' /><param name='name' value='Crimethroughouttheyears&#47;Sheet4' /><param name='tabs' value='no' /><param name='toolbar' value='yes' /><param name='static_image' value='https:&#47;&#47;public.tableau.com&#47;static&#47;images&#47;Cr&#47;Crimethroughouttheyears&#47;Sheet4&#47;1.png' /> <param name='animate_transition' value='yes' /><param name='display_static_image' value='yes' /><param name='display_spinner' value='yes' /><param name='display_overlay' value='yes' /><param name='display_count' value='yes' /><param name='filter' value='publish=yes' /></object></div>                <script type='text/javascript'>                    var divElement = document.getElementById('viz1558645821550');                    var vizElement = divElement.getElementsByTagName('object')[0];                    vizElement.style.width='100%';vizElement.style.height=(divElement.offsetWidth*0.75)+'px';                    var scriptElement = document.createElement('script');                    scriptElement.src = 'https://public.tableau.com/javascripts/api/viz_v1.js';                    vizElement.parentNode.insertBefore(scriptElement, vizElement);                </script>"
   ]
  },
  {
   "cell_type": "markdown",
   "metadata": {},
   "source": [
    "If we look at the chart we can see that our earlier hypothesis was wrong and the number of crimes has been steadily increasing since 2015. We can ignore 2019 right now since the year has yet to be concluded at the time of this project."
   ]
  },
  {
   "cell_type": "code",
   "execution_count": 144,
   "metadata": {},
   "outputs": [
    {
     "data": {
      "text/html": [
       "<div class='tableauPlaceholder' id='viz1559158535837' style='position: relative'><noscript><a href='#'><img alt=' ' src='https:&#47;&#47;public.tableau.com&#47;static&#47;images&#47;Cr&#47;Crimethroughouttheyears&#47;Sheet5&#47;1_rss.png' style='border: none' /></a></noscript><object class='tableauViz'  style='display:none;'><param name='host_url' value='https%3A%2F%2Fpublic.tableau.com%2F' /> <param name='embed_code_version' value='3' /> <param name='site_root' value='' /><param name='name' value='Crimethroughouttheyears&#47;Sheet5' /><param name='tabs' value='no' /><param name='toolbar' value='yes' /><param name='static_image' value='https:&#47;&#47;public.tableau.com&#47;static&#47;images&#47;Cr&#47;Crimethroughouttheyears&#47;Sheet5&#47;1.png' /> <param name='animate_transition' value='yes' /><param name='display_static_image' value='yes' /><param name='display_spinner' value='yes' /><param name='display_overlay' value='yes' /><param name='display_count' value='yes' /><param name='filter' value='publish=yes' /></object></div>                <script type='text/javascript'>                    var divElement = document.getElementById('viz1559158535837');                    var vizElement = divElement.getElementsByTagName('object')[0];                    vizElement.style.width='100%';vizElement.style.height=(divElement.offsetWidth*0.75)+'px';                    var scriptElement = document.createElement('script');                    scriptElement.src = 'https://public.tableau.com/javascripts/api/viz_v1.js';                    vizElement.parentNode.insertBefore(scriptElement, vizElement);                </script>\n"
      ],
      "text/plain": [
       "<IPython.core.display.HTML object>"
      ]
     },
     "metadata": {},
     "output_type": "display_data"
    }
   ],
   "source": [
    "%%HTML\n",
    "<div class='tableauPlaceholder' id='viz1559158535837' style='position: relative'><noscript><a href='#'><img alt=' ' src='https:&#47;&#47;public.tableau.com&#47;static&#47;images&#47;Cr&#47;Crimethroughouttheyears&#47;Sheet5&#47;1_rss.png' style='border: none' /></a></noscript><object class='tableauViz'  style='display:none;'><param name='host_url' value='https%3A%2F%2Fpublic.tableau.com%2F' /> <param name='embed_code_version' value='3' /> <param name='site_root' value='' /><param name='name' value='Crimethroughouttheyears&#47;Sheet5' /><param name='tabs' value='no' /><param name='toolbar' value='yes' /><param name='static_image' value='https:&#47;&#47;public.tableau.com&#47;static&#47;images&#47;Cr&#47;Crimethroughouttheyears&#47;Sheet5&#47;1.png' /> <param name='animate_transition' value='yes' /><param name='display_static_image' value='yes' /><param name='display_spinner' value='yes' /><param name='display_overlay' value='yes' /><param name='display_count' value='yes' /><param name='filter' value='publish=yes' /></object></div>                <script type='text/javascript'>                    var divElement = document.getElementById('viz1559158535837');                    var vizElement = divElement.getElementsByTagName('object')[0];                    vizElement.style.width='100%';vizElement.style.height=(divElement.offsetWidth*0.75)+'px';                    var scriptElement = document.createElement('script');                    scriptElement.src = 'https://public.tableau.com/javascripts/api/viz_v1.js';                    vizElement.parentNode.insertBefore(scriptElement, vizElement);                </script>"
   ]
  },
  {
   "cell_type": "markdown",
   "metadata": {},
   "source": [
    "From the charts we see a 8% increase in crime from 2015 to 2018. "
   ]
  },
  {
   "cell_type": "code",
   "execution_count": 145,
   "metadata": {},
   "outputs": [
    {
     "data": {
      "text/html": [
       "<div class='tableauPlaceholder' id='viz1559668776899' style='position: relative'><noscript><a href='#'><img alt=' ' src='https:&#47;&#47;public.tableau.com&#47;static&#47;images&#47;20&#47;2018proposedvs2015actuals&#47;Sheet1&#47;1_rss.png' style='border: none' /></a></noscript><object class='tableauViz'  style='display:none;'><param name='host_url' value='https%3A%2F%2Fpublic.tableau.com%2F' /> <param name='embed_code_version' value='3' /> <param name='site_root' value='' /><param name='name' value='2018proposedvs2015actuals&#47;Sheet1' /><param name='tabs' value='no' /><param name='toolbar' value='yes' /><param name='static_image' value='https:&#47;&#47;public.tableau.com&#47;static&#47;images&#47;20&#47;2018proposedvs2015actuals&#47;Sheet1&#47;1.png' /> <param name='animate_transition' value='yes' /><param name='display_static_image' value='yes' /><param name='display_spinner' value='yes' /><param name='display_overlay' value='yes' /><param name='display_count' value='yes' /><param name='filter' value='publish=yes' /></object></div>                <script type='text/javascript'>                    var divElement = document.getElementById('viz1559668776899');                    var vizElement = divElement.getElementsByTagName('object')[0];                    vizElement.style.width='100%';vizElement.style.height=(divElement.offsetWidth*0.75)+'px';                    var scriptElement = document.createElement('script');                    scriptElement.src = 'https://public.tableau.com/javascripts/api/viz_v1.js';                    vizElement.parentNode.insertBefore(scriptElement, vizElement);                </script>\n"
      ],
      "text/plain": [
       "<IPython.core.display.HTML object>"
      ]
     },
     "metadata": {},
     "output_type": "display_data"
    }
   ],
   "source": [
    "%%HTML\n",
    "<div class='tableauPlaceholder' id='viz1559668776899' style='position: relative'><noscript><a href='#'><img alt=' ' src='https:&#47;&#47;public.tableau.com&#47;static&#47;images&#47;20&#47;2018proposedvs2015actuals&#47;Sheet1&#47;1_rss.png' style='border: none' /></a></noscript><object class='tableauViz'  style='display:none;'><param name='host_url' value='https%3A%2F%2Fpublic.tableau.com%2F' /> <param name='embed_code_version' value='3' /> <param name='site_root' value='' /><param name='name' value='2018proposedvs2015actuals&#47;Sheet1' /><param name='tabs' value='no' /><param name='toolbar' value='yes' /><param name='static_image' value='https:&#47;&#47;public.tableau.com&#47;static&#47;images&#47;20&#47;2018proposedvs2015actuals&#47;Sheet1&#47;1.png' /> <param name='animate_transition' value='yes' /><param name='display_static_image' value='yes' /><param name='display_spinner' value='yes' /><param name='display_overlay' value='yes' /><param name='display_count' value='yes' /><param name='filter' value='publish=yes' /></object></div>                <script type='text/javascript'>                    var divElement = document.getElementById('viz1559668776899');                    var vizElement = divElement.getElementsByTagName('object')[0];                    vizElement.style.width='100%';vizElement.style.height=(divElement.offsetWidth*0.75)+'px';                    var scriptElement = document.createElement('script');                    scriptElement.src = 'https://public.tableau.com/javascripts/api/viz_v1.js';                    vizElement.parentNode.insertBefore(scriptElement, vizElement);                </script>"
   ]
  },
  {
   "cell_type": "markdown",
   "metadata": {},
   "source": [
    "I do not have the actual values for 2018 so I used the proposed values for that year. We can see an increase in funding to the crime prevention programs I filtered out. Yet, we still saw a steady increase in crime. Then is it safe to rule out that funding has little effect on with crime rate? Not quite yet."
   ]
  },
  {
   "cell_type": "markdown",
   "metadata": {},
   "source": [
    "# Statistical Tests"
   ]
  },
  {
   "cell_type": "markdown",
   "metadata": {},
   "source": [
    "*T-Value Test*"
   ]
  },
  {
   "cell_type": "markdown",
   "metadata": {},
   "source": [
    "We want to quantify the hypothesis that funding does affect crime rate. We will test this hypothesis against the null hypothesis of: funding does not affect crime rate. To do this we can conduct a t-test by using the scipy stats library. "
   ]
  },
  {
   "cell_type": "markdown",
   "metadata": {},
   "source": [
    "First lets filter the data we need."
   ]
  },
  {
   "cell_type": "code",
   "execution_count": 146,
   "metadata": {},
   "outputs": [],
   "source": [
    "number_of_crimes = [47668,49225,50423,51441]\n",
    "programs = ['Police Relief and Pension Fund', 'Emergency Subfund',\n",
    "           'Police Civilian Community Liason Services', 'Police Accountability Reserve',\n",
    "           'Emergency Homeless Program', 'Emergency Response', \n",
    "           'Gun violence Prevention Program', 'Jail Services','Alcohol and Other Drugs',\n",
    "           'Office of the Community Police Commission', 'Narcotics Investigations',\n",
    "           'Police Action Expenses', 'Youth Violence Prevention Initiative', \n",
    "           'Homeless Intervention', \n",
    "            'Department of Justic Settlement Agreement Public Safety Reserve']\n",
    "crime15 = finance2016[finance2016['ProgramName'].isin(programs)]\n",
    "crime16 = finance2017[finance2017['ProgramName'].isin(programs)]\n",
    "sum15 = crime15['2015_Actual'].sum()\n",
    "sum16 = crime16['2016_Actuals'].sum()\n",
    "sum17 = crime16['2017_Adopted'].sum()\n",
    "sum18 = crime16['2018_Proposed'].sum()\n",
    "years = [2015,2016,2017,2018]\n",
    "spending_on_crime = [int(sum15),int(sum16),int(sum17),int(sum18)]"
   ]
  },
  {
   "cell_type": "code",
   "execution_count": 147,
   "metadata": {},
   "outputs": [
    {
     "data": {
      "text/plain": [
       "Text(0.5, 1.0, 'Spending amount on Crime. 2015 through 2018 ')"
      ]
     },
     "execution_count": 147,
     "metadata": {},
     "output_type": "execute_result"
    },
    {
     "data": {
      "image/png": "[encoded data removed]",
      "text/plain": [
       "<Figure size 432x288 with 1 Axes>"
      ]
     },
     "metadata": {
      "needs_background": "light"
     },
     "output_type": "display_data"
    }
   ],
   "source": [
    "sns.lineplot(x = years, y = spending_on_crime).set_title('Spending amount on Crime. 2015 through 2018 ')"
   ]
  },
  {
   "cell_type": "code",
   "execution_count": 199,
   "metadata": {},
   "outputs": [
    {
     "data": {
      "text/plain": [
       "Text(0.5, 1.0, 'Number of Crimes Per Year Vs. Budget Spent on Crime')"
      ]
     },
     "execution_count": 199,
     "metadata": {},
     "output_type": "execute_result"
    },
    {
     "data": {
      "image/png": "[encoded data removed]",
      "text/plain": [
       "<Figure size 432x288 with 1 Axes>"
      ]
     },
     "metadata": {
      "needs_background": "light"
     },
     "output_type": "display_data"
    }
   ],
   "source": [
    "sns.lineplot(x = number_of_crimes, y = spending_on_crime).set_title('Number of Crimes Per Year Vs. Budget Spent on Crime')"
   ]
  },
  {
   "cell_type": "code",
   "execution_count": 197,
   "metadata": {},
   "outputs": [
    {
     "data": {
      "text/plain": [
       "False"
      ]
     },
     "execution_count": 197,
     "metadata": {},
     "output_type": "execute_result"
    }
   ],
   "source": [
    "from scipy import stats\n",
    "from scipy.stats import norm\n",
    "crime_num = np.asarray(number_of_crimes)\n",
    "spend_num = np.asarray(spending_on_crime)\n",
    "var_crime = crime_num.var(ddof = 1)\n",
    "var_spend = spend_num.var(ddof = 1)\n",
    "var_crime == var_spend"
   ]
  },
  {
   "cell_type": "code",
   "execution_count": 161,
   "metadata": {},
   "outputs": [],
   "source": [
    "def s2_statistic(array):\n",
    "    num_sum = 0;\n",
    "    for x in range(len(array)):\n",
    "        num_sum += (array[x] - array.mean()) **2\n",
    "    return  num_sum / (len(array) - 1)   \n",
    "        "
   ]
  },
  {
   "cell_type": "code",
   "execution_count": 186,
   "metadata": {},
   "outputs": [],
   "source": [
    "import math\n",
    "def t_test(array1, array2, s1,s2):\n",
    "    nume = array1.mean() - array2.mean()\n",
    "    denom = math.sqrt(((s2 ** 2) / len(array2)) + ((s1**2) / len(array1)))\n",
    "    return nume / denom"
   ]
  },
  {
   "cell_type": "code",
   "execution_count": 196,
   "metadata": {},
   "outputs": [
    {
     "name": "stdout",
     "output_type": "stream",
     "text": [
      "t-Statistic: -36.96684223769834\n",
      "p-value: 4.354005747565469e-05\n"
     ]
    }
   ],
   "source": [
    "t2,p2 = stats.ttest_ind(crime_num,spend_num, equal_var = False)\n",
    "print('t-Statistic:', t2)\n",
    "print('p-value:', p2)"
   ]
  },
  {
   "cell_type": "markdown",
   "metadata": {},
   "source": [
    "The p-value is extremely low. This means that there is only a rougly 0.0001% chance that this pattern happened by chance. Thus we can reject the null hypothesis and state that Seattle's budget spending does indeed have a statistically significant affect on crime rates. "
   ]
  },
  {
   "cell_type": "code",
   "execution_count": 150,
   "metadata": {},
   "outputs": [],
   "source": [
    " from scipy.interpolate import interp1d"
   ]
  },
  {
   "cell_type": "code",
   "execution_count": 209,
   "metadata": {},
   "outputs": [],
   "source": [
    "lin_interp = interp1d(number_of_crimes,spending_on_crime)"
   ]
  },
  {
   "cell_type": "code",
   "execution_count": 210,
   "metadata": {},
   "outputs": [
    {
     "data": {
      "text/plain": [
       "[<matplotlib.lines.Line2D at 0x1bb2075ac88>]"
      ]
     },
     "execution_count": 210,
     "metadata": {},
     "output_type": "execute_result"
    },
    {
     "data": {
      "image/png": "[encoded data removed]",
      "text/plain": [
       "<Figure size 432x288 with 1 Axes>"
      ]
     },
     "metadata": {
      "needs_background": "light"
     },
     "output_type": "display_data"
    }
   ],
   "source": [
    "plt.plot(lin_interp(number_of_crimes))\n",
    "#plt.plot(number_of_crimes,spending_on_crime)"
   ]
  },
  {
   "cell_type": "code",
   "execution_count": null,
   "metadata": {},
   "outputs": [],
   "source": []
  }
 ],
 "metadata": {
  "kernelspec": {
   "display_name": "Python 3",
   "language": "python",
   "name": "python3"
  },
  "language_info": {
   "codemirror_mode": {
    "name": "ipython",
    "version": 3
   },
   "file_extension": ".py",
   "mimetype": "text/x-python",
   "name": "python",
   "nbconvert_exporter": "python",
   "pygments_lexer": "ipython3",
   "version": "3.7.3"
  }
 },
 "nbformat": 4,
 "nbformat_minor": 2
}
