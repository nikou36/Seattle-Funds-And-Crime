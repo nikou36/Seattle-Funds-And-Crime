{
 "cells": [
  {
   "cell_type": "markdown",
   "metadata": {},
   "source": [
    "# How Seattle's Budget Affects Crime Rate "
   ]
  },
  {
   "cell_type": "markdown",
   "metadata": {},
   "source": [
    "Seattle is a bustling and diverse city that continues to innovate in response to its dynamic demographic. In this report I aim to analyze how Seattle's decisions on budgeting affect the rate of crime in the city."
   ]
  },
  {
   "cell_type": "markdown",
   "metadata": {},
   "source": [
    "First, let us gather the necessary libraries for our analysis. "
   ]
  },
  {
   "cell_type": "code",
   "execution_count": 94,
   "metadata": {},
   "outputs": [],
   "source": [
    "import numpy as np\n",
    "import pandas as pd\n",
    "import seaborn as sns\n",
    "import matplotlib.pyplot as plt\n",
    "from sklearn.impute import SimpleImputer"
   ]
  },
  {
   "cell_type": "code",
   "execution_count": 69,
   "metadata": {},
   "outputs": [],
   "source": [
    "finance2017 = pd.read_csv(\"2018_Proposed_Budget_Dollars.csv\")\n",
    "finance2016 = pd.read_csv(\"2016_Adopted_Budget_Dollars.csv\")\n",
    "crime = pd.read_csv(\"Crime_Data.csv\")"
   ]
  },
  {
   "cell_type": "markdown",
   "metadata": {},
   "source": [
    "The features included in these csv files include the actual, adopted, and endorsed budget value for a specific year. The adopted and endorsed values are maluable meaning they can change before the final implementation. The actual budge value is the final budget implemented that year. To get the most accurate picture of how the budget split effects the city, we will use the actuals values from the previous years for any predictive tasks. Specifically, we have the actuals for 2015 and 2016."
   ]
  },
  {
   "cell_type": "code",
   "execution_count": 70,
   "metadata": {
    "scrolled": true
   },
   "outputs": [
    {
     "data": {
      "text/html": [
       "<div>\n",
       "<style scoped>\n",
       "    .dataframe tbody tr th:only-of-type {\n",
       "        vertical-align: middle;\n",
       "    }\n",
       "\n",
       "    .dataframe tbody tr th {\n",
       "        vertical-align: top;\n",
       "    }\n",
       "\n",
       "    .dataframe thead th {\n",
       "        text-align: right;\n",
       "    }\n",
       "</style>\n",
       "<table border=\"1\" class=\"dataframe\">\n",
       "  <thead>\n",
       "    <tr style=\"text-align: right;\">\n",
       "      <th></th>\n",
       "      <th>DeptCode</th>\n",
       "      <th>BCLName</th>\n",
       "      <th>ProgramName</th>\n",
       "      <th>2015 Actual</th>\n",
       "      <th>2015 Adopted</th>\n",
       "      <th>2016 Endorsed</th>\n",
       "      <th>2016 Adopted</th>\n",
       "    </tr>\n",
       "  </thead>\n",
       "  <tbody>\n",
       "    <tr>\n",
       "      <th>0</th>\n",
       "      <td>12LIBLEVY</td>\n",
       "      <td>Library Levy Operating Transfer</td>\n",
       "      <td>Library Levy Operating Transfer</td>\n",
       "      <td>12560843.0</td>\n",
       "      <td>13139976.0</td>\n",
       "      <td>13665837.0</td>\n",
       "      <td>13665837.0</td>\n",
       "    </tr>\n",
       "    <tr>\n",
       "      <th>1</th>\n",
       "      <td>ARTS</td>\n",
       "      <td>Arts Account</td>\n",
       "      <td>Administrative Services</td>\n",
       "      <td>535825.0</td>\n",
       "      <td>652869.0</td>\n",
       "      <td>577473.0</td>\n",
       "      <td>598187.0</td>\n",
       "    </tr>\n",
       "    <tr>\n",
       "      <th>2</th>\n",
       "      <td>ARTS</td>\n",
       "      <td>Arts Account</td>\n",
       "      <td>Community Development and Outreach</td>\n",
       "      <td>537298.0</td>\n",
       "      <td>616223.0</td>\n",
       "      <td>624749.0</td>\n",
       "      <td>611425.0</td>\n",
       "    </tr>\n",
       "    <tr>\n",
       "      <th>3</th>\n",
       "      <td>ARTS</td>\n",
       "      <td>Arts Account</td>\n",
       "      <td>Cultural Partnerships</td>\n",
       "      <td>3480285.0</td>\n",
       "      <td>3810876.0</td>\n",
       "      <td>3766536.0</td>\n",
       "      <td>4517092.0</td>\n",
       "    </tr>\n",
       "    <tr>\n",
       "      <th>4</th>\n",
       "      <td>ARTS</td>\n",
       "      <td>Arts Account</td>\n",
       "      <td>Langston Hughes Performing Arts Institute</td>\n",
       "      <td>824622.0</td>\n",
       "      <td>875117.0</td>\n",
       "      <td>843873.0</td>\n",
       "      <td>428046.0</td>\n",
       "    </tr>\n",
       "  </tbody>\n",
       "</table>\n",
       "</div>"
      ],
      "text/plain": [
       "    DeptCode                          BCLName  \\\n",
       "0  12LIBLEVY  Library Levy Operating Transfer   \n",
       "1       ARTS                     Arts Account   \n",
       "2       ARTS                     Arts Account   \n",
       "3       ARTS                     Arts Account   \n",
       "4       ARTS                     Arts Account   \n",
       "\n",
       "                                 ProgramName  2015 Actual  2015 Adopted  \\\n",
       "0            Library Levy Operating Transfer   12560843.0    13139976.0   \n",
       "1                    Administrative Services     535825.0      652869.0   \n",
       "2         Community Development and Outreach     537298.0      616223.0   \n",
       "3                      Cultural Partnerships    3480285.0     3810876.0   \n",
       "4  Langston Hughes Performing Arts Institute     824622.0      875117.0   \n",
       "\n",
       "   2016 Endorsed  2016 Adopted  \n",
       "0     13665837.0    13665837.0  \n",
       "1       577473.0      598187.0  \n",
       "2       624749.0      611425.0  \n",
       "3      3766536.0     4517092.0  \n",
       "4       843873.0      428046.0  "
      ]
     },
     "execution_count": 70,
     "metadata": {},
     "output_type": "execute_result"
    }
   ],
   "source": [
    "finance2016.head()"
   ]
  },
  {
   "cell_type": "code",
   "execution_count": 71,
   "metadata": {},
   "outputs": [
    {
     "data": {
      "text/html": [
       "<div>\n",
       "<style scoped>\n",
       "    .dataframe tbody tr th:only-of-type {\n",
       "        vertical-align: middle;\n",
       "    }\n",
       "\n",
       "    .dataframe tbody tr th {\n",
       "        vertical-align: top;\n",
       "    }\n",
       "\n",
       "    .dataframe thead th {\n",
       "        text-align: right;\n",
       "    }\n",
       "</style>\n",
       "<table border=\"1\" class=\"dataframe\">\n",
       "  <thead>\n",
       "    <tr style=\"text-align: right;\">\n",
       "      <th></th>\n",
       "      <th>DeptCode</th>\n",
       "      <th>BCLName</th>\n",
       "      <th>ProgramName</th>\n",
       "      <th>2016 Actuals</th>\n",
       "      <th>2017 Adopted</th>\n",
       "      <th>2018 Endorsed</th>\n",
       "      <th>2018 Proposed</th>\n",
       "    </tr>\n",
       "  </thead>\n",
       "  <tbody>\n",
       "    <tr>\n",
       "      <th>0</th>\n",
       "      <td>12LIBLEVY</td>\n",
       "      <td>Library Levy Operating Transfer</td>\n",
       "      <td>Library Levy Operating Transfer</td>\n",
       "      <td>16416248.0</td>\n",
       "      <td>14503161</td>\n",
       "      <td>14905762</td>\n",
       "      <td>15406132</td>\n",
       "    </tr>\n",
       "    <tr>\n",
       "      <th>1</th>\n",
       "      <td>ARTS</td>\n",
       "      <td>Municipal Arts Fund</td>\n",
       "      <td>Artwork Conservation</td>\n",
       "      <td>167028.0</td>\n",
       "      <td>192527</td>\n",
       "      <td>195486</td>\n",
       "      <td>196788</td>\n",
       "    </tr>\n",
       "    <tr>\n",
       "      <th>2</th>\n",
       "      <td>CBLFEE</td>\n",
       "      <td>Cable Fee Support to Information Technology Fund</td>\n",
       "      <td>Applications</td>\n",
       "      <td>0.0</td>\n",
       "      <td>742062</td>\n",
       "      <td>430062</td>\n",
       "      <td>430062</td>\n",
       "    </tr>\n",
       "    <tr>\n",
       "      <th>3</th>\n",
       "      <td>CBLFEE</td>\n",
       "      <td>Cable Fee Support to Information Technology Fund</td>\n",
       "      <td>Business Office</td>\n",
       "      <td>238440.0</td>\n",
       "      <td>456822</td>\n",
       "      <td>386145</td>\n",
       "      <td>386145</td>\n",
       "    </tr>\n",
       "    <tr>\n",
       "      <th>4</th>\n",
       "      <td>CBLFEE</td>\n",
       "      <td>Cable Fee Support to Information Technology Fund</td>\n",
       "      <td>Citywide Web Team</td>\n",
       "      <td>1105252.0</td>\n",
       "      <td>1122959</td>\n",
       "      <td>1135302</td>\n",
       "      <td>1135302</td>\n",
       "    </tr>\n",
       "  </tbody>\n",
       "</table>\n",
       "</div>"
      ],
      "text/plain": [
       "    DeptCode                                           BCLName  \\\n",
       "0  12LIBLEVY                   Library Levy Operating Transfer   \n",
       "1       ARTS                               Municipal Arts Fund   \n",
       "2     CBLFEE  Cable Fee Support to Information Technology Fund   \n",
       "3     CBLFEE  Cable Fee Support to Information Technology Fund   \n",
       "4     CBLFEE  Cable Fee Support to Information Technology Fund   \n",
       "\n",
       "                       ProgramName  2016 Actuals  2017 Adopted  2018 Endorsed  \\\n",
       "0  Library Levy Operating Transfer    16416248.0      14503161       14905762   \n",
       "1             Artwork Conservation      167028.0        192527         195486   \n",
       "2                     Applications           0.0        742062         430062   \n",
       "3                  Business Office      238440.0        456822         386145   \n",
       "4                Citywide Web Team     1105252.0       1122959        1135302   \n",
       "\n",
       "   2018 Proposed  \n",
       "0       15406132  \n",
       "1         196788  \n",
       "2         430062  \n",
       "3         386145  \n",
       "4        1135302  "
      ]
     },
     "execution_count": 71,
     "metadata": {},
     "output_type": "execute_result"
    }
   ],
   "source": [
    "finance2017.head()"
   ]
  },
  {
   "cell_type": "code",
   "execution_count": 72,
   "metadata": {},
   "outputs": [
    {
     "data": {
      "text/html": [
       "<div>\n",
       "<style scoped>\n",
       "    .dataframe tbody tr th:only-of-type {\n",
       "        vertical-align: middle;\n",
       "    }\n",
       "\n",
       "    .dataframe tbody tr th {\n",
       "        vertical-align: top;\n",
       "    }\n",
       "\n",
       "    .dataframe thead th {\n",
       "        text-align: right;\n",
       "    }\n",
       "</style>\n",
       "<table border=\"1\" class=\"dataframe\">\n",
       "  <thead>\n",
       "    <tr style=\"text-align: right;\">\n",
       "      <th></th>\n",
       "      <th>Report Number</th>\n",
       "      <th>Occurred Date</th>\n",
       "      <th>Occurred Time</th>\n",
       "      <th>Reported Date</th>\n",
       "      <th>Reported Time</th>\n",
       "      <th>Crime Subcategory</th>\n",
       "      <th>Primary Offense Description</th>\n",
       "      <th>Precinct</th>\n",
       "      <th>Sector</th>\n",
       "      <th>Beat</th>\n",
       "      <th>Neighborhood</th>\n",
       "    </tr>\n",
       "  </thead>\n",
       "  <tbody>\n",
       "    <tr>\n",
       "      <th>0</th>\n",
       "      <td>20190000905007</td>\n",
       "      <td>05/06/2019</td>\n",
       "      <td>1800.0</td>\n",
       "      <td>05/07/2019</td>\n",
       "      <td>1008.0</td>\n",
       "      <td>CAR PROWL</td>\n",
       "      <td>THEFT-CARPROWL</td>\n",
       "      <td>NORTH</td>\n",
       "      <td>J</td>\n",
       "      <td>J3</td>\n",
       "      <td>PHINNEY RIDGE</td>\n",
       "    </tr>\n",
       "    <tr>\n",
       "      <th>1</th>\n",
       "      <td>20190000905022</td>\n",
       "      <td>04/25/2019</td>\n",
       "      <td>2100.0</td>\n",
       "      <td>05/07/2019</td>\n",
       "      <td>1407.0</td>\n",
       "      <td>THEFT-BUILDING</td>\n",
       "      <td>THEFT-BUILDING</td>\n",
       "      <td>WEST</td>\n",
       "      <td>D</td>\n",
       "      <td>D3</td>\n",
       "      <td>SLU/CASCADE</td>\n",
       "    </tr>\n",
       "    <tr>\n",
       "      <th>2</th>\n",
       "      <td>20190000162679</td>\n",
       "      <td>04/12/2019</td>\n",
       "      <td>1.0</td>\n",
       "      <td>05/07/2019</td>\n",
       "      <td>122.0</td>\n",
       "      <td>THEFT-ALL OTHER</td>\n",
       "      <td>THEFT-OTH</td>\n",
       "      <td>SOUTHWEST</td>\n",
       "      <td>F</td>\n",
       "      <td>F1</td>\n",
       "      <td>NORTH DELRIDGE</td>\n",
       "    </tr>\n",
       "    <tr>\n",
       "      <th>3</th>\n",
       "      <td>20190000162720</td>\n",
       "      <td>05/07/2019</td>\n",
       "      <td>149.0</td>\n",
       "      <td>05/07/2019</td>\n",
       "      <td>149.0</td>\n",
       "      <td>DUI</td>\n",
       "      <td>DUI-DRUGS</td>\n",
       "      <td>EAST</td>\n",
       "      <td>E</td>\n",
       "      <td>E3</td>\n",
       "      <td>CAPITOL HILL</td>\n",
       "    </tr>\n",
       "    <tr>\n",
       "      <th>4</th>\n",
       "      <td>20190000904999</td>\n",
       "      <td>05/05/2019</td>\n",
       "      <td>1230.0</td>\n",
       "      <td>05/07/2019</td>\n",
       "      <td>839.0</td>\n",
       "      <td>THEFT-BUILDING</td>\n",
       "      <td>THEFT-BUILDING</td>\n",
       "      <td>WEST</td>\n",
       "      <td>D</td>\n",
       "      <td>D2</td>\n",
       "      <td>SLU/CASCADE</td>\n",
       "    </tr>\n",
       "  </tbody>\n",
       "</table>\n",
       "</div>"
      ],
      "text/plain": [
       "    Report Number Occurred Date  Occurred Time Reported Date  Reported Time  \\\n",
       "0  20190000905007    05/06/2019         1800.0    05/07/2019         1008.0   \n",
       "1  20190000905022    04/25/2019         2100.0    05/07/2019         1407.0   \n",
       "2  20190000162679    04/12/2019            1.0    05/07/2019          122.0   \n",
       "3  20190000162720    05/07/2019          149.0    05/07/2019          149.0   \n",
       "4  20190000904999    05/05/2019         1230.0    05/07/2019          839.0   \n",
       "\n",
       "  Crime Subcategory Primary Offense Description   Precinct Sector Beat  \\\n",
       "0         CAR PROWL              THEFT-CARPROWL      NORTH      J   J3   \n",
       "1    THEFT-BUILDING              THEFT-BUILDING       WEST      D   D3   \n",
       "2   THEFT-ALL OTHER                   THEFT-OTH  SOUTHWEST      F   F1   \n",
       "3               DUI                   DUI-DRUGS       EAST      E   E3   \n",
       "4    THEFT-BUILDING              THEFT-BUILDING       WEST      D   D2   \n",
       "\n",
       "     Neighborhood  \n",
       "0   PHINNEY RIDGE  \n",
       "1     SLU/CASCADE  \n",
       "2  NORTH DELRIDGE  \n",
       "3    CAPITOL HILL  \n",
       "4     SLU/CASCADE  "
      ]
     },
     "execution_count": 72,
     "metadata": {},
     "output_type": "execute_result"
    }
   ],
   "source": [
    "crime.head()"
   ]
  },
  {
   "cell_type": "markdown",
   "metadata": {},
   "source": [
    "# Data Cleaning"
   ]
  },
  {
   "cell_type": "markdown",
   "metadata": {},
   "source": [
    "Before we move on ahead let us clean the data real quick. There are a few things we have to deal with, potential missing data, potential duplicate data and those white spaces in the column names."
   ]
  },
  {
   "cell_type": "code",
   "execution_count": 73,
   "metadata": {},
   "outputs": [
    {
     "data": {
      "text/plain": [
       "(723, 7)"
      ]
     },
     "execution_count": 73,
     "metadata": {},
     "output_type": "execute_result"
    }
   ],
   "source": [
    "finance2016.shape"
   ]
  },
  {
   "cell_type": "code",
   "execution_count": 74,
   "metadata": {},
   "outputs": [
    {
     "data": {
      "text/plain": [
       "DeptCode         0\n",
       "BCLName          0\n",
       "ProgramName      0\n",
       "2015 Actual      3\n",
       "2015 Adopted     6\n",
       "2016 Endorsed    6\n",
       "2016 Adopted     5\n",
       "dtype: int64"
      ]
     },
     "execution_count": 74,
     "metadata": {},
     "output_type": "execute_result"
    }
   ],
   "source": [
    "finance2016.isnull().sum()"
   ]
  },
  {
   "cell_type": "markdown",
   "metadata": {},
   "source": [
    "Next we check if there are any duplicate rows."
   ]
  },
  {
   "cell_type": "code",
   "execution_count": 75,
   "metadata": {},
   "outputs": [
    {
     "data": {
      "text/plain": [
       "0"
      ]
     },
     "execution_count": 75,
     "metadata": {},
     "output_type": "execute_result"
    }
   ],
   "source": [
    "duplicates2016 = finance2016[finance2016.duplicated()]\n",
    "len(duplicates2016)"
   ]
  },
  {
   "cell_type": "code",
   "execution_count": 76,
   "metadata": {},
   "outputs": [
    {
     "data": {
      "text/plain": [
       "Index(['DeptCode', 'BCLName', 'ProgramName', '2015_Actual', '2015_Adopted',\n",
       "       '2016_Endorsed', '2016_Adopted'],\n",
       "      dtype='object')"
      ]
     },
     "execution_count": 76,
     "metadata": {},
     "output_type": "execute_result"
    }
   ],
   "source": [
    "finance2016 = finance2016.rename(index = str, columns = {'2015 Actual': '2015_Actual', '2015 Adopted': '2015_Adopted',\n",
    "                                                        '2016 Endorsed':'2016_Endorsed','2016 Adopted':'2016_Adopted'})\n",
    "finance2016.columns"
   ]
  },
  {
   "cell_type": "markdown",
   "metadata": {},
   "source": [
    "We are in good shape for the 2016 table. Let's repeat the process for the two other datasets. "
   ]
  },
  {
   "cell_type": "code",
   "execution_count": 77,
   "metadata": {},
   "outputs": [
    {
     "data": {
      "text/plain": [
       "(579, 7)"
      ]
     },
     "execution_count": 77,
     "metadata": {},
     "output_type": "execute_result"
    }
   ],
   "source": [
    "finance2017.shape"
   ]
  },
  {
   "cell_type": "code",
   "execution_count": 78,
   "metadata": {},
   "outputs": [
    {
     "data": {
      "text/plain": [
       "DeptCode         0\n",
       "BCLName          0\n",
       "ProgramName      0\n",
       "2016 Actuals     0\n",
       "2017 Adopted     0\n",
       "2018 Endorsed    0\n",
       "2018 Proposed    0\n",
       "dtype: int64"
      ]
     },
     "execution_count": 78,
     "metadata": {},
     "output_type": "execute_result"
    }
   ],
   "source": [
    "finance2017.isnull().sum()"
   ]
  },
  {
   "cell_type": "code",
   "execution_count": 79,
   "metadata": {},
   "outputs": [
    {
     "data": {
      "text/plain": [
       "0"
      ]
     },
     "execution_count": 79,
     "metadata": {},
     "output_type": "execute_result"
    }
   ],
   "source": [
    "duplicates2017 = finance2017[finance2017.duplicated()]\n",
    "len(duplicates2017)"
   ]
  },
  {
   "cell_type": "code",
   "execution_count": 80,
   "metadata": {},
   "outputs": [
    {
     "data": {
      "text/plain": [
       "Index(['DeptCode', 'BCLName', 'ProgramName', '2016_Actuals', '2017_Adopted',\n",
       "       '2018_Endorsed', '2018_Proposed'],\n",
       "      dtype='object')"
      ]
     },
     "execution_count": 80,
     "metadata": {},
     "output_type": "execute_result"
    }
   ],
   "source": [
    "finance2017 = finance2017.rename(index = str, columns = {'2016 Actuals': '2016_Actuals', '2017 Adopted':'2017_Adopted',\n",
    "                                                        '2018 Endorsed': '2018_Endorsed', '2018 Proposed':'2018_Proposed'})\n",
    "finance2017.columns"
   ]
  },
  {
   "cell_type": "code",
   "execution_count": 81,
   "metadata": {},
   "outputs": [
    {
     "data": {
      "text/plain": [
       "(523590, 11)"
      ]
     },
     "execution_count": 81,
     "metadata": {},
     "output_type": "execute_result"
    }
   ],
   "source": [
    "crime.shape"
   ]
  },
  {
   "cell_type": "code",
   "execution_count": 82,
   "metadata": {},
   "outputs": [
    {
     "data": {
      "text/plain": [
       "Report Number                     0\n",
       "Occurred Date                     2\n",
       "Occurred Time                     2\n",
       "Reported Date                     0\n",
       "Reported Time                     2\n",
       "Crime Subcategory               262\n",
       "Primary Offense Description       0\n",
       "Precinct                          6\n",
       "Sector                         3346\n",
       "Beat                           3298\n",
       "Neighborhood                      0\n",
       "dtype: int64"
      ]
     },
     "execution_count": 82,
     "metadata": {},
     "output_type": "execute_result"
    }
   ],
   "source": [
    "crime.isnull().sum()"
   ]
  },
  {
   "cell_type": "code",
   "execution_count": 83,
   "metadata": {},
   "outputs": [
    {
     "data": {
      "text/plain": [
       "0"
      ]
     },
     "execution_count": 83,
     "metadata": {},
     "output_type": "execute_result"
    }
   ],
   "source": [
    "duplicates_crime = crime[crime.duplicated()]\n",
    "len(duplicates_crime)"
   ]
  },
  {
   "cell_type": "code",
   "execution_count": 84,
   "metadata": {},
   "outputs": [
    {
     "data": {
      "text/plain": [
       "Index(['Report_Number', 'Occurred_Date', 'Occurred_Time', 'Reported_Date',\n",
       "       'Reported_Time', 'Crime_Subcategory', 'Primary_Offense_Description',\n",
       "       'Precinct', 'Sector', 'Beat', 'Neighborhood'],\n",
       "      dtype='object')"
      ]
     },
     "execution_count": 84,
     "metadata": {},
     "output_type": "execute_result"
    }
   ],
   "source": [
    "crime = crime.rename(index = str, \n",
    "                     columns = {'Report Number': 'Report_Number','Occurred Date': 'Occurred_Date','Occurred Time': 'Occurred_Time',\n",
    "                               'Reported Date': 'Reported_Date', 'Reported Time':'Reported_Time', \n",
    "                                'Crime Subcategory': 'Crime_Subcategory',\n",
    "                                'Primary Offense Description':'Primary_Offense_Description'})\n",
    "crime.columns"
   ]
  },
  {
   "cell_type": "code",
   "execution_count": 85,
   "metadata": {},
   "outputs": [
    {
     "data": {
      "text/html": [
       "<div>\n",
       "<style scoped>\n",
       "    .dataframe tbody tr th:only-of-type {\n",
       "        vertical-align: middle;\n",
       "    }\n",
       "\n",
       "    .dataframe tbody tr th {\n",
       "        vertical-align: top;\n",
       "    }\n",
       "\n",
       "    .dataframe thead th {\n",
       "        text-align: right;\n",
       "    }\n",
       "</style>\n",
       "<table border=\"1\" class=\"dataframe\">\n",
       "  <thead>\n",
       "    <tr style=\"text-align: right;\">\n",
       "      <th></th>\n",
       "      <th>Report_Number</th>\n",
       "      <th>Occurred_Date</th>\n",
       "      <th>Occurred_Time</th>\n",
       "      <th>Reported_Date</th>\n",
       "      <th>Reported_Time</th>\n",
       "      <th>Crime_Subcategory</th>\n",
       "      <th>Primary_Offense_Description</th>\n",
       "      <th>Precinct</th>\n",
       "      <th>Sector</th>\n",
       "      <th>Beat</th>\n",
       "      <th>Neighborhood</th>\n",
       "    </tr>\n",
       "  </thead>\n",
       "  <tbody>\n",
       "    <tr>\n",
       "      <th>0</th>\n",
       "      <td>20190000905007</td>\n",
       "      <td>05/06/2019</td>\n",
       "      <td>1800.0</td>\n",
       "      <td>05/07/2019</td>\n",
       "      <td>1008.0</td>\n",
       "      <td>CAR PROWL</td>\n",
       "      <td>THEFT-CARPROWL</td>\n",
       "      <td>NORTH</td>\n",
       "      <td>J</td>\n",
       "      <td>J3</td>\n",
       "      <td>PHINNEY RIDGE</td>\n",
       "    </tr>\n",
       "    <tr>\n",
       "      <th>1</th>\n",
       "      <td>20190000905022</td>\n",
       "      <td>04/25/2019</td>\n",
       "      <td>2100.0</td>\n",
       "      <td>05/07/2019</td>\n",
       "      <td>1407.0</td>\n",
       "      <td>THEFT-BUILDING</td>\n",
       "      <td>THEFT-BUILDING</td>\n",
       "      <td>WEST</td>\n",
       "      <td>D</td>\n",
       "      <td>D3</td>\n",
       "      <td>SLU/CASCADE</td>\n",
       "    </tr>\n",
       "    <tr>\n",
       "      <th>2</th>\n",
       "      <td>20190000162679</td>\n",
       "      <td>04/12/2019</td>\n",
       "      <td>1.0</td>\n",
       "      <td>05/07/2019</td>\n",
       "      <td>122.0</td>\n",
       "      <td>THEFT-ALL OTHER</td>\n",
       "      <td>THEFT-OTH</td>\n",
       "      <td>SOUTHWEST</td>\n",
       "      <td>F</td>\n",
       "      <td>F1</td>\n",
       "      <td>NORTH DELRIDGE</td>\n",
       "    </tr>\n",
       "    <tr>\n",
       "      <th>3</th>\n",
       "      <td>20190000162720</td>\n",
       "      <td>05/07/2019</td>\n",
       "      <td>149.0</td>\n",
       "      <td>05/07/2019</td>\n",
       "      <td>149.0</td>\n",
       "      <td>DUI</td>\n",
       "      <td>DUI-DRUGS</td>\n",
       "      <td>EAST</td>\n",
       "      <td>E</td>\n",
       "      <td>E3</td>\n",
       "      <td>CAPITOL HILL</td>\n",
       "    </tr>\n",
       "    <tr>\n",
       "      <th>4</th>\n",
       "      <td>20190000904999</td>\n",
       "      <td>05/05/2019</td>\n",
       "      <td>1230.0</td>\n",
       "      <td>05/07/2019</td>\n",
       "      <td>839.0</td>\n",
       "      <td>THEFT-BUILDING</td>\n",
       "      <td>THEFT-BUILDING</td>\n",
       "      <td>WEST</td>\n",
       "      <td>D</td>\n",
       "      <td>D2</td>\n",
       "      <td>SLU/CASCADE</td>\n",
       "    </tr>\n",
       "  </tbody>\n",
       "</table>\n",
       "</div>"
      ],
      "text/plain": [
       "    Report_Number Occurred_Date  Occurred_Time Reported_Date  Reported_Time  \\\n",
       "0  20190000905007    05/06/2019         1800.0    05/07/2019         1008.0   \n",
       "1  20190000905022    04/25/2019         2100.0    05/07/2019         1407.0   \n",
       "2  20190000162679    04/12/2019            1.0    05/07/2019          122.0   \n",
       "3  20190000162720    05/07/2019          149.0    05/07/2019          149.0   \n",
       "4  20190000904999    05/05/2019         1230.0    05/07/2019          839.0   \n",
       "\n",
       "  Crime_Subcategory Primary_Offense_Description   Precinct Sector Beat  \\\n",
       "0         CAR PROWL              THEFT-CARPROWL      NORTH      J   J3   \n",
       "1    THEFT-BUILDING              THEFT-BUILDING       WEST      D   D3   \n",
       "2   THEFT-ALL OTHER                   THEFT-OTH  SOUTHWEST      F   F1   \n",
       "3               DUI                   DUI-DRUGS       EAST      E   E3   \n",
       "4    THEFT-BUILDING              THEFT-BUILDING       WEST      D   D2   \n",
       "\n",
       "     Neighborhood  \n",
       "0   PHINNEY RIDGE  \n",
       "1     SLU/CASCADE  \n",
       "2  NORTH DELRIDGE  \n",
       "3    CAPITOL HILL  \n",
       "4     SLU/CASCADE  "
      ]
     },
     "execution_count": 85,
     "metadata": {},
     "output_type": "execute_result"
    }
   ],
   "source": [
    "import datetime as dt\n",
    "crime.head()"
   ]
  },
  {
   "cell_type": "markdown",
   "metadata": {},
   "source": [
    "# Data Exploration"
   ]
  },
  {
   "cell_type": "markdown",
   "metadata": {},
   "source": [
    "A side note: Most of the visualizations for this project will be done in Tableau for a more pleasing and interactive presentation. "
   ]
  },
  {
   "cell_type": "markdown",
   "metadata": {},
   "source": [
    "Let us begin by diving into the data. I will use the visuals along the way to come up with with hypotheses to test out in a later section. "
   ]
  },
  {
   "cell_type": "markdown",
   "metadata": {},
   "source": [
    "Let us first see how the 2015 and 2016 actuals were distributed among the deparments. "
   ]
  },
  {
   "cell_type": "code",
   "execution_count": 86,
   "metadata": {},
   "outputs": [
    {
     "data": {
      "text/html": [
       "<div class='tableauPlaceholder' id='viz1558632667204' style='position: relative'><noscript><a href='#'><img alt=' ' src='https:&#47;&#47;public.tableau.com&#47;static&#47;images&#47;Se&#47;Seattle2015Actuals&#47;Dashboard1&#47;1_rss.png' style='border: none' /></a></noscript><object class='tableauViz'  style='display:none;'><param name='host_url' value='https%3A%2F%2Fpublic.tableau.com%2F' /> <param name='embed_code_version' value='3' /> <param name='site_root' value='' /><param name='name' value='Seattle2015Actuals&#47;Dashboard1' /><param name='tabs' value='no' /><param name='toolbar' value='yes' /><param name='static_image' value='https:&#47;&#47;public.tableau.com&#47;static&#47;images&#47;Se&#47;Seattle2015Actuals&#47;Dashboard1&#47;1.png' /> <param name='animate_transition' value='yes' /><param name='display_static_image' value='yes' /><param name='display_spinner' value='yes' /><param name='display_overlay' value='yes' /><param name='display_count' value='yes' /><param name='filter' value='publish=yes' /></object></div>                <script type='text/javascript'>                    var divElement = document.getElementById('viz1558632667204');                    var vizElement = divElement.getElementsByTagName('object')[0];                    vizElement.style.minWidth='420px';vizElement.style.maxWidth='650px';vizElement.style.width='100%';vizElement.style.minHeight='587px';vizElement.style.maxHeight='887px';vizElement.style.height=(divElement.offsetWidth*0.75)+'px';                    var scriptElement = document.createElement('script');                    scriptElement.src = 'https://public.tableau.com/javascripts/api/viz_v1.js';                    vizElement.parentNode.insertBefore(scriptElement, vizElement);                </script>\n"
      ],
      "text/plain": [
       "<IPython.core.display.HTML object>"
      ]
     },
     "metadata": {},
     "output_type": "display_data"
    }
   ],
   "source": [
    "%%HTML\n",
    "<div class='tableauPlaceholder' id='viz1558632667204' style='position: relative'><noscript><a href='#'><img alt=' ' src='https:&#47;&#47;public.tableau.com&#47;static&#47;images&#47;Se&#47;Seattle2015Actuals&#47;Dashboard1&#47;1_rss.png' style='border: none' /></a></noscript><object class='tableauViz'  style='display:none;'><param name='host_url' value='https%3A%2F%2Fpublic.tableau.com%2F' /> <param name='embed_code_version' value='3' /> <param name='site_root' value='' /><param name='name' value='Seattle2015Actuals&#47;Dashboard1' /><param name='tabs' value='no' /><param name='toolbar' value='yes' /><param name='static_image' value='https:&#47;&#47;public.tableau.com&#47;static&#47;images&#47;Se&#47;Seattle2015Actuals&#47;Dashboard1&#47;1.png' /> <param name='animate_transition' value='yes' /><param name='display_static_image' value='yes' /><param name='display_spinner' value='yes' /><param name='display_overlay' value='yes' /><param name='display_count' value='yes' /><param name='filter' value='publish=yes' /></object></div>                <script type='text/javascript'>                    var divElement = document.getElementById('viz1558632667204');                    var vizElement = divElement.getElementsByTagName('object')[0];                    vizElement.style.minWidth='420px';vizElement.style.maxWidth='650px';vizElement.style.width='100%';vizElement.style.minHeight='587px';vizElement.style.maxHeight='887px';vizElement.style.height=(divElement.offsetWidth*0.75)+'px';                    var scriptElement = document.createElement('script');                    scriptElement.src = 'https://public.tableau.com/javascripts/api/viz_v1.js';                    vizElement.parentNode.insertBefore(scriptElement, vizElement);                </script>"
   ]
  },
  {
   "cell_type": "markdown",
   "metadata": {},
   "source": [
    "As we can see, general expenses recieved the largest cut of the 2015 budget. The other larger expenseses were focussed mainly on preservation and construction (Parks, Alaskan way Viaduct, Library fund). The Human Services Operating fund provides health and support care to various causes. Trauma care, community connections and senior centers just to name a few. (Source: http://www.seattle.gov/humanservices/funding-and-reports/funding-opportunities). "
   ]
  },
  {
   "cell_type": "markdown",
   "metadata": {},
   "source": [
    "Some notable programs that got little to no funding at all include: homeless shelter development, community engagement, and youth violance prevention. "
   ]
  },
  {
   "cell_type": "markdown",
   "metadata": {},
   "source": [
    "Next, let's see if the 2016 distribution has any significant changes. "
   ]
  },
  {
   "cell_type": "code",
   "execution_count": 87,
   "metadata": {},
   "outputs": [
    {
     "data": {
      "text/html": [
       "<div class='tableauPlaceholder' id='viz1558642786190' style='position: relative'><noscript><a href='#'><img alt=' ' src='https:&#47;&#47;public.tableau.com&#47;static&#47;images&#47;Se&#47;Seattle2016Actuals&#47;Dashboard2&#47;1_rss.png' style='border: none' /></a></noscript><object class='tableauViz'  style='display:none;'><param name='host_url' value='https%3A%2F%2Fpublic.tableau.com%2F' /> <param name='embed_code_version' value='3' /> <param name='site_root' value='' /><param name='name' value='Seattle2016Actuals&#47;Dashboard2' /><param name='tabs' value='no' /><param name='toolbar' value='yes' /><param name='static_image' value='https:&#47;&#47;public.tableau.com&#47;static&#47;images&#47;Se&#47;Seattle2016Actuals&#47;Dashboard2&#47;1.png' /> <param name='animate_transition' value='yes' /><param name='display_static_image' value='yes' /><param name='display_spinner' value='yes' /><param name='display_overlay' value='yes' /><param name='display_count' value='yes' /><param name='filter' value='publish=yes' /></object></div>                <script type='text/javascript'>                    var divElement = document.getElementById('viz1558642786190');                    var vizElement = divElement.getElementsByTagName('object')[0];                    vizElement.style.minWidth='420px';vizElement.style.maxWidth='650px';vizElement.style.width='100%';vizElement.style.minHeight='587px';vizElement.style.maxHeight='887px';vizElement.style.height=(divElement.offsetWidth*0.75)+'px';                    var scriptElement = document.createElement('script');                    scriptElement.src = 'https://public.tableau.com/javascripts/api/viz_v1.js';                    vizElement.parentNode.insertBefore(scriptElement, vizElement);                </script>\n"
      ],
      "text/plain": [
       "<IPython.core.display.HTML object>"
      ]
     },
     "metadata": {},
     "output_type": "display_data"
    }
   ],
   "source": [
    "%%HTML\n",
    "<div class='tableauPlaceholder' id='viz1558642786190' style='position: relative'><noscript><a href='#'><img alt=' ' src='https:&#47;&#47;public.tableau.com&#47;static&#47;images&#47;Se&#47;Seattle2016Actuals&#47;Dashboard2&#47;1_rss.png' style='border: none' /></a></noscript><object class='tableauViz'  style='display:none;'><param name='host_url' value='https%3A%2F%2Fpublic.tableau.com%2F' /> <param name='embed_code_version' value='3' /> <param name='site_root' value='' /><param name='name' value='Seattle2016Actuals&#47;Dashboard2' /><param name='tabs' value='no' /><param name='toolbar' value='yes' /><param name='static_image' value='https:&#47;&#47;public.tableau.com&#47;static&#47;images&#47;Se&#47;Seattle2016Actuals&#47;Dashboard2&#47;1.png' /> <param name='animate_transition' value='yes' /><param name='display_static_image' value='yes' /><param name='display_spinner' value='yes' /><param name='display_overlay' value='yes' /><param name='display_count' value='yes' /><param name='filter' value='publish=yes' /></object></div>                <script type='text/javascript'>                    var divElement = document.getElementById('viz1558642786190');                    var vizElement = divElement.getElementsByTagName('object')[0];                    vizElement.style.minWidth='420px';vizElement.style.maxWidth='650px';vizElement.style.width='100%';vizElement.style.minHeight='587px';vizElement.style.maxHeight='887px';vizElement.style.height=(divElement.offsetWidth*0.75)+'px';                    var scriptElement = document.createElement('script');                    scriptElement.src = 'https://public.tableau.com/javascripts/api/viz_v1.js';                    vizElement.parentNode.insertBefore(scriptElement, vizElement);                </script>"
   ]
  },
  {
   "cell_type": "markdown",
   "metadata": {},
   "source": [
    "Comparing the two years, it's hard to see any significant difference in the data especially when it comes to programs related to preventing crime. To visualize the data for our purposes better, I will filter out the programs that are not directly related to crime and calculate the change in funding from 2015 to 2016. To do this I will simply calculate (2016 Actuals) - (2015 Actuals) to the program names I deem relavent to crime. Of course this will introduce some selection bias to our analysis but it will provide a more intuitive picture of the crime landscape."
   ]
  },
  {
   "cell_type": "code",
   "execution_count": 88,
   "metadata": {},
   "outputs": [
    {
     "data": {
      "text/html": [
       "<div class='tableauPlaceholder' id='viz1558643870820' style='position: relative'><noscript><a href='#'><img alt=' ' src='https:&#47;&#47;public.tableau.com&#47;static&#47;images&#47;Se&#47;SeattleCrimefundingdifferences&#47;Sheet5&#47;1_rss.png' style='border: none' /></a></noscript><object class='tableauViz'  style='display:none;'><param name='host_url' value='https%3A%2F%2Fpublic.tableau.com%2F' /> <param name='embed_code_version' value='3' /> <param name='site_root' value='' /><param name='name' value='SeattleCrimefundingdifferences&#47;Sheet5' /><param name='tabs' value='no' /><param name='toolbar' value='yes' /><param name='static_image' value='https:&#47;&#47;public.tableau.com&#47;static&#47;images&#47;Se&#47;SeattleCrimefundingdifferences&#47;Sheet5&#47;1.png' /> <param name='animate_transition' value='yes' /><param name='display_static_image' value='yes' /><param name='display_spinner' value='yes' /><param name='display_overlay' value='yes' /><param name='display_count' value='yes' /><param name='filter' value='publish=yes' /></object></div>                <script type='text/javascript'>                    var divElement = document.getElementById('viz1558643870820');                    var vizElement = divElement.getElementsByTagName('object')[0];                    vizElement.style.width='100%';vizElement.style.height=(divElement.offsetWidth*0.75)+'px';                    var scriptElement = document.createElement('script');                    scriptElement.src = 'https://public.tableau.com/javascripts/api/viz_v1.js';                    vizElement.parentNode.insertBefore(scriptElement, vizElement);                </script>\n"
      ],
      "text/plain": [
       "<IPython.core.display.HTML object>"
      ]
     },
     "metadata": {},
     "output_type": "display_data"
    }
   ],
   "source": [
    "%%HTML\n",
    "<div class='tableauPlaceholder' id='viz1558643870820' style='position: relative'><noscript><a href='#'><img alt=' ' src='https:&#47;&#47;public.tableau.com&#47;static&#47;images&#47;Se&#47;SeattleCrimefundingdifferences&#47;Sheet5&#47;1_rss.png' style='border: none' /></a></noscript><object class='tableauViz'  style='display:none;'><param name='host_url' value='https%3A%2F%2Fpublic.tableau.com%2F' /> <param name='embed_code_version' value='3' /> <param name='site_root' value='' /><param name='name' value='SeattleCrimefundingdifferences&#47;Sheet5' /><param name='tabs' value='no' /><param name='toolbar' value='yes' /><param name='static_image' value='https:&#47;&#47;public.tableau.com&#47;static&#47;images&#47;Se&#47;SeattleCrimefundingdifferences&#47;Sheet5&#47;1.png' /> <param name='animate_transition' value='yes' /><param name='display_static_image' value='yes' /><param name='display_spinner' value='yes' /><param name='display_overlay' value='yes' /><param name='display_count' value='yes' /><param name='filter' value='publish=yes' /></object></div>                <script type='text/javascript'>                    var divElement = document.getElementById('viz1558643870820');                    var vizElement = divElement.getElementsByTagName('object')[0];                    vizElement.style.width='100%';vizElement.style.height=(divElement.offsetWidth*0.75)+'px';                    var scriptElement = document.createElement('script');                    scriptElement.src = 'https://public.tableau.com/javascripts/api/viz_v1.js';                    vizElement.parentNode.insertBefore(scriptElement, vizElement);                </script>"
   ]
  },
  {
   "cell_type": "markdown",
   "metadata": {},
   "source": [
    "From what we see here, it seems that in 2016 Seattle focussed its efforts towards revamping it justice and homeless policies hence the increased funding towards homeless intervention and the deparment of justice/police accountability programs. Surpisingly, funding towards programs that relate directly to crime prevention and the police took a hit. Noteably, emergency response, domestic violence detectives, narcotic investigations etc. "
   ]
  },
  {
   "cell_type": "markdown",
   "metadata": {},
   "source": [
    "We could argue that the decrease in funds to those crime fighting programs may be because the crime rate decreased in 2016. Let's take a look at that "
   ]
  },
  {
   "cell_type": "code",
   "execution_count": 89,
   "metadata": {},
   "outputs": [
    {
     "data": {
      "text/html": [
       "<div class='tableauPlaceholder' id='viz1558645821550' style='position: relative'><noscript><a href='#'><img alt=' ' src='https:&#47;&#47;public.tableau.com&#47;static&#47;images&#47;Cr&#47;Crimethroughouttheyears&#47;Sheet4&#47;1_rss.png' style='border: none' /></a></noscript><object class='tableauViz'  style='display:none;'><param name='host_url' value='https%3A%2F%2Fpublic.tableau.com%2F' /> <param name='embed_code_version' value='3' /> <param name='site_root' value='' /><param name='name' value='Crimethroughouttheyears&#47;Sheet4' /><param name='tabs' value='no' /><param name='toolbar' value='yes' /><param name='static_image' value='https:&#47;&#47;public.tableau.com&#47;static&#47;images&#47;Cr&#47;Crimethroughouttheyears&#47;Sheet4&#47;1.png' /> <param name='animate_transition' value='yes' /><param name='display_static_image' value='yes' /><param name='display_spinner' value='yes' /><param name='display_overlay' value='yes' /><param name='display_count' value='yes' /><param name='filter' value='publish=yes' /></object></div>                <script type='text/javascript'>                    var divElement = document.getElementById('viz1558645821550');                    var vizElement = divElement.getElementsByTagName('object')[0];                    vizElement.style.width='100%';vizElement.style.height=(divElement.offsetWidth*0.75)+'px';                    var scriptElement = document.createElement('script');                    scriptElement.src = 'https://public.tableau.com/javascripts/api/viz_v1.js';                    vizElement.parentNode.insertBefore(scriptElement, vizElement);                </script>\n"
      ],
      "text/plain": [
       "<IPython.core.display.HTML object>"
      ]
     },
     "metadata": {},
     "output_type": "display_data"
    }
   ],
   "source": [
    "%%HTML\n",
    "<div class='tableauPlaceholder' id='viz1558645821550' style='position: relative'><noscript><a href='#'><img alt=' ' src='https:&#47;&#47;public.tableau.com&#47;static&#47;images&#47;Cr&#47;Crimethroughouttheyears&#47;Sheet4&#47;1_rss.png' style='border: none' /></a></noscript><object class='tableauViz'  style='display:none;'><param name='host_url' value='https%3A%2F%2Fpublic.tableau.com%2F' /> <param name='embed_code_version' value='3' /> <param name='site_root' value='' /><param name='name' value='Crimethroughouttheyears&#47;Sheet4' /><param name='tabs' value='no' /><param name='toolbar' value='yes' /><param name='static_image' value='https:&#47;&#47;public.tableau.com&#47;static&#47;images&#47;Cr&#47;Crimethroughouttheyears&#47;Sheet4&#47;1.png' /> <param name='animate_transition' value='yes' /><param name='display_static_image' value='yes' /><param name='display_spinner' value='yes' /><param name='display_overlay' value='yes' /><param name='display_count' value='yes' /><param name='filter' value='publish=yes' /></object></div>                <script type='text/javascript'>                    var divElement = document.getElementById('viz1558645821550');                    var vizElement = divElement.getElementsByTagName('object')[0];                    vizElement.style.width='100%';vizElement.style.height=(divElement.offsetWidth*0.75)+'px';                    var scriptElement = document.createElement('script');                    scriptElement.src = 'https://public.tableau.com/javascripts/api/viz_v1.js';                    vizElement.parentNode.insertBefore(scriptElement, vizElement);                </script>"
   ]
  },
  {
   "cell_type": "markdown",
   "metadata": {},
   "source": [
    "If we look at the chart we can see that our earlier hypothesis was wrong and the number of crimes has been steadily increasing since 2015. We can ignore 2019 right now since the year has yet to be concluded at the time of this project."
   ]
  },
  {
   "cell_type": "code",
   "execution_count": 90,
   "metadata": {},
   "outputs": [
    {
     "data": {
      "text/html": [
       "<div class='tableauPlaceholder' id='viz1559158535837' style='position: relative'><noscript><a href='#'><img alt=' ' src='https:&#47;&#47;public.tableau.com&#47;static&#47;images&#47;Cr&#47;Crimethroughouttheyears&#47;Sheet5&#47;1_rss.png' style='border: none' /></a></noscript><object class='tableauViz'  style='display:none;'><param name='host_url' value='https%3A%2F%2Fpublic.tableau.com%2F' /> <param name='embed_code_version' value='3' /> <param name='site_root' value='' /><param name='name' value='Crimethroughouttheyears&#47;Sheet5' /><param name='tabs' value='no' /><param name='toolbar' value='yes' /><param name='static_image' value='https:&#47;&#47;public.tableau.com&#47;static&#47;images&#47;Cr&#47;Crimethroughouttheyears&#47;Sheet5&#47;1.png' /> <param name='animate_transition' value='yes' /><param name='display_static_image' value='yes' /><param name='display_spinner' value='yes' /><param name='display_overlay' value='yes' /><param name='display_count' value='yes' /><param name='filter' value='publish=yes' /></object></div>                <script type='text/javascript'>                    var divElement = document.getElementById('viz1559158535837');                    var vizElement = divElement.getElementsByTagName('object')[0];                    vizElement.style.width='100%';vizElement.style.height=(divElement.offsetWidth*0.75)+'px';                    var scriptElement = document.createElement('script');                    scriptElement.src = 'https://public.tableau.com/javascripts/api/viz_v1.js';                    vizElement.parentNode.insertBefore(scriptElement, vizElement);                </script>\n"
      ],
      "text/plain": [
       "<IPython.core.display.HTML object>"
      ]
     },
     "metadata": {},
     "output_type": "display_data"
    }
   ],
   "source": [
    "%%HTML\n",
    "<div class='tableauPlaceholder' id='viz1559158535837' style='position: relative'><noscript><a href='#'><img alt=' ' src='https:&#47;&#47;public.tableau.com&#47;static&#47;images&#47;Cr&#47;Crimethroughouttheyears&#47;Sheet5&#47;1_rss.png' style='border: none' /></a></noscript><object class='tableauViz'  style='display:none;'><param name='host_url' value='https%3A%2F%2Fpublic.tableau.com%2F' /> <param name='embed_code_version' value='3' /> <param name='site_root' value='' /><param name='name' value='Crimethroughouttheyears&#47;Sheet5' /><param name='tabs' value='no' /><param name='toolbar' value='yes' /><param name='static_image' value='https:&#47;&#47;public.tableau.com&#47;static&#47;images&#47;Cr&#47;Crimethroughouttheyears&#47;Sheet5&#47;1.png' /> <param name='animate_transition' value='yes' /><param name='display_static_image' value='yes' /><param name='display_spinner' value='yes' /><param name='display_overlay' value='yes' /><param name='display_count' value='yes' /><param name='filter' value='publish=yes' /></object></div>                <script type='text/javascript'>                    var divElement = document.getElementById('viz1559158535837');                    var vizElement = divElement.getElementsByTagName('object')[0];                    vizElement.style.width='100%';vizElement.style.height=(divElement.offsetWidth*0.75)+'px';                    var scriptElement = document.createElement('script');                    scriptElement.src = 'https://public.tableau.com/javascripts/api/viz_v1.js';                    vizElement.parentNode.insertBefore(scriptElement, vizElement);                </script>"
   ]
  },
  {
   "cell_type": "markdown",
   "metadata": {},
   "source": [
    "From the charts we see a 8% increase in crime from 2015 to 2018. "
   ]
  },
  {
   "cell_type": "code",
   "execution_count": 91,
   "metadata": {},
   "outputs": [
    {
     "data": {
      "text/html": [
       "<div class='tableauPlaceholder' id='viz1559668776899' style='position: relative'><noscript><a href='#'><img alt=' ' src='https:&#47;&#47;public.tableau.com&#47;static&#47;images&#47;20&#47;2018proposedvs2015actuals&#47;Sheet1&#47;1_rss.png' style='border: none' /></a></noscript><object class='tableauViz'  style='display:none;'><param name='host_url' value='https%3A%2F%2Fpublic.tableau.com%2F' /> <param name='embed_code_version' value='3' /> <param name='site_root' value='' /><param name='name' value='2018proposedvs2015actuals&#47;Sheet1' /><param name='tabs' value='no' /><param name='toolbar' value='yes' /><param name='static_image' value='https:&#47;&#47;public.tableau.com&#47;static&#47;images&#47;20&#47;2018proposedvs2015actuals&#47;Sheet1&#47;1.png' /> <param name='animate_transition' value='yes' /><param name='display_static_image' value='yes' /><param name='display_spinner' value='yes' /><param name='display_overlay' value='yes' /><param name='display_count' value='yes' /><param name='filter' value='publish=yes' /></object></div>                <script type='text/javascript'>                    var divElement = document.getElementById('viz1559668776899');                    var vizElement = divElement.getElementsByTagName('object')[0];                    vizElement.style.width='100%';vizElement.style.height=(divElement.offsetWidth*0.75)+'px';                    var scriptElement = document.createElement('script');                    scriptElement.src = 'https://public.tableau.com/javascripts/api/viz_v1.js';                    vizElement.parentNode.insertBefore(scriptElement, vizElement);                </script>\n"
      ],
      "text/plain": [
       "<IPython.core.display.HTML object>"
      ]
     },
     "metadata": {},
     "output_type": "display_data"
    }
   ],
   "source": [
    "%%HTML\n",
    "<div class='tableauPlaceholder' id='viz1559668776899' style='position: relative'><noscript><a href='#'><img alt=' ' src='https:&#47;&#47;public.tableau.com&#47;static&#47;images&#47;20&#47;2018proposedvs2015actuals&#47;Sheet1&#47;1_rss.png' style='border: none' /></a></noscript><object class='tableauViz'  style='display:none;'><param name='host_url' value='https%3A%2F%2Fpublic.tableau.com%2F' /> <param name='embed_code_version' value='3' /> <param name='site_root' value='' /><param name='name' value='2018proposedvs2015actuals&#47;Sheet1' /><param name='tabs' value='no' /><param name='toolbar' value='yes' /><param name='static_image' value='https:&#47;&#47;public.tableau.com&#47;static&#47;images&#47;20&#47;2018proposedvs2015actuals&#47;Sheet1&#47;1.png' /> <param name='animate_transition' value='yes' /><param name='display_static_image' value='yes' /><param name='display_spinner' value='yes' /><param name='display_overlay' value='yes' /><param name='display_count' value='yes' /><param name='filter' value='publish=yes' /></object></div>                <script type='text/javascript'>                    var divElement = document.getElementById('viz1559668776899');                    var vizElement = divElement.getElementsByTagName('object')[0];                    vizElement.style.width='100%';vizElement.style.height=(divElement.offsetWidth*0.75)+'px';                    var scriptElement = document.createElement('script');                    scriptElement.src = 'https://public.tableau.com/javascripts/api/viz_v1.js';                    vizElement.parentNode.insertBefore(scriptElement, vizElement);                </script>"
   ]
  },
  {
   "cell_type": "markdown",
   "metadata": {},
   "source": [
    "I do not have the actual values for 2018 so I used the proposed values for that year. We can see an increase in funding to the crime prevention programs I filtered out. Yet, we still saw a steady increase in crime. Then is it safe to rule out that funding has little effect on with crime rate? Not quite yet."
   ]
  },
  {
   "cell_type": "markdown",
   "metadata": {},
   "source": [
    "# Statistical Tests"
   ]
  },
  {
   "cell_type": "code",
   "execution_count": 99,
   "metadata": {},
   "outputs": [],
   "source": [
    "number_of_crimes = [47668,49225,50423,51441]\n"
   ]
  },
  {
   "cell_type": "code",
   "execution_count": null,
   "metadata": {},
   "outputs": [],
   "source": []
  }
 ],
 "metadata": {
  "kernelspec": {
   "display_name": "Python 3",
   "language": "python",
   "name": "python3"
  }
 },
 "nbformat": 4,
 "nbformat_minor": 2
}
